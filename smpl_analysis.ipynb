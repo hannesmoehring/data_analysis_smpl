{
 "cells": [
  {
   "cell_type": "code",
   "execution_count": 1,
   "id": "d1163007",
   "metadata": {},
   "outputs": [
    {
     "name": "stdout",
     "output_type": "stream",
     "text": [
      "<class 'dict'>\n",
      "dict_keys(['J_regressor_prior', 'f', 'J_regressor', 'kintree_table', 'J', 'weights_prior', 'weights', 'posedirs', 'pose_training_info', 'bs_style', 'v_template', 'shapedirs', 'bs_type'])\n"
     ]
    },
    {
     "name": "stderr",
     "output_type": "stream",
     "text": [
      "/var/folders/sg/6kgs67jd7x78hnddmpl4_x1c0000gn/T/ipykernel_5810/2028970843.py:4: DeprecationWarning: Please import `csc_matrix` from the `scipy.sparse` namespace; the `scipy.sparse.csc` namespace is deprecated and will be removed in SciPy 2.0.0.\n",
      "  smpl_model = pickle.load(f, encoding=\"latin1\")  # latin1 needed for Python3 compatibility\n"
     ]
    }
   ],
   "source": [
    "import pickle\n",
    "\n",
    "with open(\"smpl/SMPL_NEUTRAL.pkl\", \"rb\") as f:\n",
    "    smpl_model = pickle.load(f, encoding=\"latin1\")  # latin1 needed for Python3 compatibility\n",
    "\n",
    "print(type(smpl_model))\n",
    "print(smpl_model.keys())"
   ]
  },
  {
   "cell_type": "code",
   "execution_count": 2,
   "id": "7d631e44",
   "metadata": {},
   "outputs": [
    {
     "name": "stdout",
     "output_type": "stream",
     "text": [
      "                   Key        Type           Shape    Dtype\n",
      "0    J_regressor_prior  csc_matrix      (24, 6890)  float64\n",
      "1                    f     ndarray      (13776, 3)   uint32\n",
      "2          J_regressor  csc_matrix      (24, 6890)  float64\n",
      "3        kintree_table     ndarray         (2, 24)   uint32\n",
      "4                    J     ndarray         (24, 3)  float64\n",
      "5        weights_prior     ndarray      (6890, 24)  float64\n",
      "6              weights     ndarray      (6890, 24)  float64\n",
      "7             posedirs     ndarray  (6890, 3, 207)  float64\n",
      "8   pose_training_info        dict            None     None\n",
      "9             bs_style         str            None     None\n",
      "10          v_template     ndarray       (6890, 3)  float64\n",
      "11           shapedirs          Ch   (6890, 3, 10)  float64\n",
      "12             bs_type         str            None     None\n"
     ]
    }
   ],
   "source": [
    "import pandas as pd\n",
    "import numpy as np\n",
    "\n",
    "def summarize_smpl_dict(smpl_dict):\n",
    "    rows = []\n",
    "    for k, v in smpl_dict.items():\n",
    "        if hasattr(v, \"shape\"):\n",
    "            rows.append([k, type(v).__name__, v.shape, getattr(v, \"dtype\", None)])\n",
    "        else:\n",
    "            rows.append([k, type(v).__name__, None, None])\n",
    "    return pd.DataFrame(rows, columns=[\"Key\", \"Type\", \"Shape\", \"Dtype\"])\n",
    "\n",
    "df = summarize_smpl_dict(smpl_model)\n",
    "print(df)"
   ]
  },
  {
   "cell_type": "code",
   "execution_count": null,
   "id": "05f0e53d",
   "metadata": {},
   "outputs": [],
   "source": []
  }
 ],
 "metadata": {
  "kernelspec": {
   "display_name": "glob",
   "language": "python",
   "name": "python3"
  },
  "language_info": {
   "codemirror_mode": {
    "name": "ipython",
    "version": 3
   },
   "file_extension": ".py",
   "mimetype": "text/x-python",
   "name": "python",
   "nbconvert_exporter": "python",
   "pygments_lexer": "ipython3",
   "version": "3.9.22"
  }
 },
 "nbformat": 4,
 "nbformat_minor": 5
}
