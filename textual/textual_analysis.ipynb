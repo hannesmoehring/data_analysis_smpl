{
 "cells": [
  {
   "cell_type": "code",
   "execution_count": 1,
   "id": "0a628d5e",
   "metadata": {},
   "outputs": [
    {
     "name": "stderr",
     "output_type": "stream",
     "text": [
      "/Users/hannesmoehring/.pyenv/versions/glob/lib/python3.9/site-packages/tqdm/auto.py:21: TqdmWarning: IProgress not found. Please update jupyter and ipywidgets. See https://ipywidgets.readthedocs.io/en/stable/user_install.html\n",
      "  from .autonotebook import tqdm as notebook_tqdm\n"
     ]
    }
   ],
   "source": [
    "import textual_help as th"
   ]
  },
  {
   "cell_type": "code",
   "execution_count": 2,
   "id": "0ad613c5",
   "metadata": {},
   "outputs": [
    {
     "name": "stdout",
     "output_type": "stream",
     "text": [
      "2.8.0 1.10.1 4.56.1 5.1.0\n"
     ]
    }
   ],
   "source": [
    "import torch, accelerate, transformers, sentence_transformers\n",
    "print(torch.__version__, accelerate.__version__, transformers.__version__, sentence_transformers.__version__)"
   ]
  },
  {
   "cell_type": "code",
   "execution_count": 3,
   "id": "76d8735a",
   "metadata": {},
   "outputs": [],
   "source": [
    "h3d_df = th.read_data_texts(\"../datasets/humanml3d/texts\")\n",
    "kit_df = th.read_data_texts(\"../datasets/KIT-ML/texts\")"
   ]
  },
  {
   "cell_type": "code",
   "execution_count": 4,
   "id": "d83b209c",
   "metadata": {},
   "outputs": [
    {
     "data": {
      "application/vnd.microsoft.datawrangler.viewer.v0+json": {
       "columns": [
        {
         "name": "index",
         "rawType": "int64",
         "type": "integer"
        },
        {
         "name": "motion_id",
         "rawType": "object",
         "type": "string"
        },
        {
         "name": "description",
         "rawType": "object",
         "type": "string"
        },
        {
         "name": "pos_tags",
         "rawType": "object",
         "type": "string"
        },
        {
         "name": "num1",
         "rawType": "float64",
         "type": "float"
        },
        {
         "name": "num2",
         "rawType": "float64",
         "type": "float"
        }
       ],
       "ref": "a3c79512-b437-40d4-a4df-0e2160dbc3ad",
       "rows": [
        [
         "0",
         "011439",
         "the person puts his hands by their mouth and turns head from right to left and then drops his hands to get on one knee and then begins to tie his left shoe.",
         "the/DET person/NOUN put/VERB his/DET hand/NOUN by/ADP their/DET mouth/NOUN and/CCONJ turn/VERB head/NOUN from/ADP right/NOUN to/ADP left/NOUN and/CCONJ then/ADV drop/VERB his/DET hand/NOUN to/PART get/AUX on/ADP one/NUM knee/NOUN and/CCONJ then/ADV begin/VERB to/PART tie/VERB his/DET left/ADJ shoe/NOUN",
         "0.0",
         "0.0"
        ],
        [
         "1",
         "011439",
         "person leans to the right and cups hands around mouth. person looks from side to side with hands around mouth. then they lean down to tie their right shoe",
         "person/NOUN lean/VERB to/ADP the/DET right/NOUN and/CCONJ cup/VERB hand/VERB around/ADP mouth/NOUN person/NOUN look/VERB from/ADP side/NOUN to/PART side/VERB with/ADP hand/NOUN around/ADP mouth/NOUN then/ADV they/PRON lean/VERB down/ADP to/PART tie/VERB their/DET right/ADJ shoe/NOUN",
         "0.0",
         "0.0"
        ],
        [
         "2",
         "011439",
         "a person raised the hands and lean it into face",
         "a/DET person/NOUN raise/VERB the/DET hand/NOUN and/CCONJ lean/VERB it/PRON into/ADP face/NOUN",
         "0.0",
         "0.0"
        ],
        [
         "3",
         "009276",
         "the person bend over and pick some thing up.",
         "the/DET person/NOUN bend/VERB over/ADP and/CCONJ pick/VERB some/DET thing/NOUN up/ADP",
         "0.0",
         "0.0"
        ],
        [
         "4",
         "009276",
         "a peraon bends over, using the right leg to bear weight while kicking back his left leg, and picks something up with his right hand.",
         "a/DET peraon/ADJ bend/NOUN over/ADP use/VERB the/DET right/ADJ leg/NOUN to/PART bear/VERB weight/NOUN while/SCONJ kick/VERB back/ADV his/DET left/ADJ leg/NOUN and/CCONJ pick/VERB something/PRON up/ADP with/ADP his/DET right/ADJ hand/NOUN",
         "0.0",
         "0.0"
        ],
        [
         "5",
         "009276",
         "a person picks up something with their right hand.",
         "a/DET person/NOUN pick/VERB up/ADP something/PRON with/ADP their/DET right/ADJ hand/NOUN",
         "0.0",
         "0.0"
        ],
        [
         "6",
         "M009233",
         "a person slowly walked forward",
         "a/DET person/NOUN slowly/ADV walk/VERB forward/ADV",
         "0.0",
         "0.0"
        ],
        [
         "7",
         "M009233",
         "walking forward and then stopping.",
         "walk/VERB forward/ADV and/CCONJ then/ADV stop/VERB",
         "0.0",
         "0.0"
        ],
        [
         "8",
         "M009233",
         "a person walks forward at medium speed.",
         "a/DET person/NOUN walk/VERB forward/ADV at/ADP medium/ADJ speed/NOUN",
         "0.0",
         "0.0"
        ],
        [
         "9",
         "006145",
         "a person reaches for something with both hands, the raises their left hand then sets its hands back down.",
         "a/DET person/NOUN reach/VERB for/ADP something/PRON with/ADP both/DET hand/NOUN the/DET raise/VERB their/DET left/ADJ hand/NOUN then/ADV set/VERB its/DET hand/NOUN back/ADV down/ADV",
         "0.0",
         "0.0"
        ],
        [
         "10",
         "006145",
         "a person tilts object on its side.",
         "a/DET person/NOUN tilt/VERB object/NOUN on/ADP its/DET side/NOUN",
         "0.0",
         "0.0"
        ],
        [
         "11",
         "006145",
         "stick figure stands an object up holding it a few seconds before setting it back down",
         "stick/PROPN figure/NOUN stand/VERB an/DET object/NOUN up/ADP hold/VERB it/PRON a/DET few/ADJ second/NOUN before/ADP set/VERB it/PRON back/ADV down/ADP",
         "1.0",
         "10.0"
        ],
        [
         "12",
         "M006100",
         "a person raises their left hand to their head, leans forward and back, drinking something that they are holding.",
         "a/DET person/NOUN raise/VERB their/DET left/ADJ hand/NOUN to/ADP their/DET head/NOUN lean/VERB forward/ADV and/CCONJ back/ADV drink/VERB something/PRON that/DET they/PRON are/AUX hold/VERB",
         "0.0",
         "0.0"
        ],
        [
         "13",
         "M006100",
         "a person was laughing while keep his left hand on the face",
         "a/DET person/NOUN was/AUX laugh/VERB while/SCONJ keep/VERB his/DET left/ADJ hand/NOUN on/ADP the/DET face/NOUN",
         "0.0",
         "0.0"
        ],
        [
         "14",
         "M006100",
         "a person raises his left hand to his head and leans his upper body to his right and then to his left.",
         "a/DET person/NOUN raise/VERB his/DET left/ADJ hand/NOUN to/ADP his/DET head/NOUN and/CCONJ lean/VERB his/DET upper/ADJ body/NOUN to/ADP his/DET right/NOUN and/CCONJ then/ADV to/ADP his/DET left/NOUN",
         "0.0",
         "0.0"
        ],
        [
         "15",
         "008168",
         "he lifts dumbblell with two hands",
         "he/PRON lift/VERB dumbblell/NOUN with/ADP two/NUM hand/NOUN",
         "0.0",
         "0.0"
        ],
        [
         "16",
         "008168",
         "a person stands with elbows bent, and proceeds to curl their arms from the elbow toward their shoulders.",
         "a/DET person/NOUN stand/VERB with/ADP elbow/NOUN bent/ADJ and/CCONJ proceed/VERB to/PART curl/VERB their/DET arm/NOUN from/ADP the/DET elbow/NOUN toward/ADP their/DET shoulder/NOUN",
         "0.0",
         "0.0"
        ],
        [
         "17",
         "008168",
         "a person moves both hands.",
         "a/DET person/NOUN move/VERB both/DET hand/NOUN",
         "0.0",
         "0.0"
        ],
        [
         "18",
         "M010762",
         "the person is doing ballet twirls.",
         "the/DET person/NOUN is/AUX do/VERB ballet/NOUN twirl/NOUN",
         "0.0",
         "0.0"
        ],
        [
         "19",
         "M010762",
         "a person is doing a dance.",
         "a/DET person/NOUN is/AUX do/VERB a/DET dance/NOUN",
         "0.0",
         "0.0"
        ],
        [
         "20",
         "M010762",
         "a man spins around, plays the air guitar, then does a little dance.",
         "a/DET man/NOUN spin/VERB around/ADV play/VERB the/DET air/NOUN guitar/NOUN then/ADV does/AUX a/DET little/ADJ dance/NOUN",
         "0.0",
         "0.0"
        ],
        [
         "21",
         "010727",
         "a person dances like michael jackson by kicking their right leg and moonwalking backwards.",
         "a/DET person/NOUN dance/VERB like/SCONJ michael/PROPN jackson/PROPN by/ADP kick/VERB their/DET right/ADJ leg/NOUN and/CCONJ moonwalking/NOUN backwards/ADV",
         "0.0",
         "0.0"
        ],
        [
         "22",
         "010727",
         "a man dances, doing the moonwalk and kicking his legs.",
         "a/DET man/NOUN dance/VERB do/VERB the/DET moonwalk/NOUN and/CCONJ kick/VERB his/DET leg/NOUN",
         "0.0",
         "0.0"
        ],
        [
         "23",
         "010727",
         "a person dancing in way michael jackson does and performs a moonwalk at the end",
         "a/DET person/NOUN dance/VERB in/ADP way/NOUN michael/PROPN jackson/PROPN does/AUX and/CCONJ perform/VERB a/DET moonwalk/NOUN at/ADP the/DET end/NOUN",
         "0.0",
         "0.0"
        ],
        [
         "24",
         "000534",
         "a person standing in place raises both arms to the side raising them above eye level.",
         "a/DET person/NOUN stand/VERB in/ADP place/NOUN raise/VERB both/DET arm/NOUN to/ADP the/DET side/NOUN raise/VERB them/PRON above/ADP eye/NOUN level/NOUN",
         "0.0",
         "0.0"
        ],
        [
         "25",
         "000534",
         "the person is stretching arms out.",
         "the/DET person/NOUN is/AUX stretch/VERB arm/NOUN out/ADV",
         "0.0",
         "0.0"
        ],
        [
         "26",
         "000534",
         "someone stretches both arms out to the side.",
         "someone/PRON stretch/VERB both/DET arm/NOUN out/ADV to/ADP the/DET side/NOUN",
         "0.0",
         "0.0"
        ],
        [
         "27",
         "M000571",
         "a person loses his balance towards his left and then steps back towards his right.",
         "a/DET person/NOUN lose/VERB his/DET balance/NOUN towards/ADP his/DET left/NOUN and/CCONJ then/ADV step/VERB back/ADV towards/ADP his/DET right/NOUN",
         "0.0",
         "0.0"
        ],
        [
         "28",
         "M000571",
         "a person steps sideways to the left and then sideways to the right.",
         "a/DET person/NOUN step/VERB sideways/ADV to/ADP the/DET left/NOUN and/CCONJ then/ADV sideway/VERB to/ADP the/DET right/NOUN",
         "0.0",
         "0.0"
        ],
        [
         "29",
         "M000571",
         "a person steps to the right while crossing left foot behind right foot, then steps back to the left.",
         "a/DET person/NOUN step/VERB to/ADP the/DET right/ADJ while/SCONJ cross/VERB left/VERB foot/NOUN behind/ADP right/ADJ foot/NOUN then/ADV step/VERB back/ADV to/ADP the/DET left/NOUN",
         "0.0",
         "0.0"
        ],
        [
         "30",
         "M014504",
         "a person walks in a semi-circular pattern, tip-toeing.",
         "a/DET person/NOUN walk/VERB in/ADP a/DET semicircular/ADJ pattern/NOUN tiptoe/VERB",
         "0.0",
         "0.0"
        ],
        [
         "31",
         "M014504",
         "a person slowly and carefully walks in a curved line.",
         "a/DET person/NOUN slowly/ADV and/CCONJ carefully/ADV walk/VERB in/ADP a/DET curved/ADJ line/NOUN",
         "0.0",
         "0.0"
        ],
        [
         "32",
         "M014504",
         "person looks to be walking with a purpose ( maybe exercise)  and doing so while rotating their hips. the person is then slowed down towards the end of the sequence",
         "person/NOUN look/VERB to/PART be/AUX walk/VERB with/ADP a/DET purpose/NOUN maybe/ADV exercise/NOUN and/CCONJ do/VERB so/ADV while/SCONJ rotate/VERB their/DET hip/NOUN the/DET person/NOUN is/AUX then/ADV slow/VERB down/ADP towards/ADP the/DET end/NOUN of/ADP the/DET sequence/NOUN",
         "0.0",
         "0.0"
        ],
        [
         "33",
         "014541",
         "a figure does jumping jacks",
         "a/DET figure/NOUN does/AUX jump/VERB jack/NOUN",
         "0.0",
         "0.0"
        ],
        [
         "34",
         "014541",
         "the man does 3 jumping jacks.",
         "the/DET man/NOUN does/AUX jump/VERB jack/NOUN",
         "0.0",
         "0.0"
        ],
        [
         "35",
         "014541",
         "the person is doing jumping jacks.",
         "the/DET person/NOUN is/AUX do/VERB jump/VERB jack/NOUN",
         "0.0",
         "0.0"
        ],
        [
         "36",
         "M003078",
         "a person stands with an umbrella; they lower it in front of them and pull the umbrella closed.",
         "a/DET person/NOUN stand/VERB with/ADP an/DET umbrella/NOUN they/PRON lower/VERB it/PRON in/ADP front/NOUN of/ADP them/PRON and/CCONJ pull/VERB the/DET umbrella/NOUN close/VERB",
         "0.0",
         "0.0"
        ],
        [
         "37",
         "M003078",
         "a person has his left hand in the air and drops it towards his right hand.",
         "a/DET person/NOUN has/AUX his/DET left/ADJ hand/NOUN in/ADP the/DET air/NOUN and/CCONJ drop/VERB it/PRON towards/ADP his/DET right/ADJ hand/NOUN",
         "0.0",
         "0.0"
        ],
        [
         "38",
         "M003078",
         "a person holding object up with left hand, lowers left arm and pulls object with right hand towards them.",
         "a/DET person/NOUN hold/VERB object/NOUN up/ADP with/ADP left/ADJ hand/NOUN lower/NOUN left/VERB arm/NOUN and/CCONJ pull/VERB object/VERB with/ADP right/ADJ hand/NOUN towards/ADP them/PRON",
         "0.0",
         "0.0"
        ],
        [
         "39",
         "004752",
         "a standing person extends both of their hands forward, then drops their arms to their side.",
         "a/DET stand/VERB person/NOUN extend/VERB both/DET of/ADP their/DET hand/NOUN forward/ADV then/ADV drop/VERB their/DET arm/NOUN to/ADP their/DET side/NOUN",
         "0.0",
         "0.0"
        ],
        [
         "40",
         "004752",
         "a person holds something in front of their chest.",
         "a/DET person/NOUN hold/VERB something/PRON in/ADP front/NOUN of/ADP their/DET chest/NOUN",
         "0.0",
         "0.0"
        ],
        [
         "41",
         "004752",
         "a person remains stationary while lowering his arms to his sides, then brings them forward with elbows bent and placing their hands as if there is an invisible steering wheel, then returning their arms to the relaxed position at their side.",
         "a/DET person/NOUN remain/VERB stationary/ADJ while/SCONJ lower/VERB his/DET arm/NOUN to/ADP his/DET side/NOUN then/ADV bring/VERB them/PRON forward/ADV with/ADP elbow/NOUN bent/ADJ and/CCONJ place/VERB their/DET hand/NOUN as/SCONJ if/SCONJ there/PRON is/AUX an/DET invisible/ADJ steering/NOUN wheel/NOUN then/ADV return/VERB their/DET arm/NOUN to/ADP the/DET relaxed/ADJ position/NOUN at/ADP their/DET side/NOUN",
         "0.0",
         "0.0"
        ],
        [
         "42",
         "M004717",
         "a man took two steps forward and then two steps backward.",
         "a/DET man/NOUN take/VERB two/NUM step/NOUN forward/ADV and/CCONJ then/ADV two/NUM step/NOUN backward/ADV",
         "0.0",
         "0.0"
        ],
        [
         "43",
         "M004717",
         "a person steps forward, turns, and steps back forming a figure eight.",
         "a/DET person/NOUN step/VERB forward/ADV turn/VERB and/CCONJ step/VERB back/ADV form/VERB a/DET figure/NOUN eight/NUM",
         "0.0",
         "0.0"
        ],
        [
         "44",
         "M004717",
         "the figure walks forward a couple steps, turns 180 degrees and walks back.",
         "the/DET figure/NOUN walk/VERB forward/ADV a/DET couple/NOUN step/NOUN turn/VERB degree/NOUN and/CCONJ walk/VERB back/ADV",
         "0.0",
         "0.0"
        ],
        [
         "45",
         "M005409",
         "a person slowly walks forward",
         "a/DET person/NOUN slowly/ADV walk/VERB forward/ADV",
         "0.0",
         "0.0"
        ],
        [
         "46",
         "M005409",
         "person walking forward with alot of sway and swagger",
         "person/NOUN walk/VERB forward/ADV with/ADP alot/NOUN of/ADP sway/NOUN and/CCONJ swagger/NOUN",
         "0.0",
         "0.0"
        ],
        [
         "47",
         "M005409",
         "a man walks forward swaying from right to left.",
         "a/DET man/NOUN walk/VERB forward/ADV sway/VERB from/ADP right/NOUN to/ADP left/NOUN",
         "0.0",
         "0.0"
        ],
        [
         "48",
         "M012175",
         "a person stands still and moves their arms as if they were swimming.",
         "a/DET person/NOUN stand/VERB still/ADV and/CCONJ move/VERB their/DET arm/NOUN as/SCONJ if/SCONJ they/PRON were/AUX swim/VERB",
         "0.0",
         "0.0"
        ],
        [
         "49",
         "M012175",
         "this person is waving his arms in the air.",
         "this/DET person/NOUN is/AUX wave/VERB his/DET arm/NOUN in/ADP the/DET air/NOUN",
         "0.0",
         "0.0"
        ]
       ],
       "shape": {
        "columns": 5,
        "rows": 87384
       }
      },
      "text/html": [
       "<div>\n",
       "<style scoped>\n",
       "    .dataframe tbody tr th:only-of-type {\n",
       "        vertical-align: middle;\n",
       "    }\n",
       "\n",
       "    .dataframe tbody tr th {\n",
       "        vertical-align: top;\n",
       "    }\n",
       "\n",
       "    .dataframe thead th {\n",
       "        text-align: right;\n",
       "    }\n",
       "</style>\n",
       "<table border=\"1\" class=\"dataframe\">\n",
       "  <thead>\n",
       "    <tr style=\"text-align: right;\">\n",
       "      <th></th>\n",
       "      <th>motion_id</th>\n",
       "      <th>description</th>\n",
       "      <th>pos_tags</th>\n",
       "      <th>num1</th>\n",
       "      <th>num2</th>\n",
       "    </tr>\n",
       "  </thead>\n",
       "  <tbody>\n",
       "    <tr>\n",
       "      <th>0</th>\n",
       "      <td>011439</td>\n",
       "      <td>the person puts his hands by their mouth and t...</td>\n",
       "      <td>the/DET person/NOUN put/VERB his/DET hand/NOUN...</td>\n",
       "      <td>0.0</td>\n",
       "      <td>0.0</td>\n",
       "    </tr>\n",
       "    <tr>\n",
       "      <th>1</th>\n",
       "      <td>011439</td>\n",
       "      <td>person leans to the right and cups hands aroun...</td>\n",
       "      <td>person/NOUN lean/VERB to/ADP the/DET right/NOU...</td>\n",
       "      <td>0.0</td>\n",
       "      <td>0.0</td>\n",
       "    </tr>\n",
       "    <tr>\n",
       "      <th>2</th>\n",
       "      <td>011439</td>\n",
       "      <td>a person raised the hands and lean it into face</td>\n",
       "      <td>a/DET person/NOUN raise/VERB the/DET hand/NOUN...</td>\n",
       "      <td>0.0</td>\n",
       "      <td>0.0</td>\n",
       "    </tr>\n",
       "    <tr>\n",
       "      <th>3</th>\n",
       "      <td>009276</td>\n",
       "      <td>the person bend over and pick some thing up.</td>\n",
       "      <td>the/DET person/NOUN bend/VERB over/ADP and/CCO...</td>\n",
       "      <td>0.0</td>\n",
       "      <td>0.0</td>\n",
       "    </tr>\n",
       "    <tr>\n",
       "      <th>4</th>\n",
       "      <td>009276</td>\n",
       "      <td>a peraon bends over, using the right leg to be...</td>\n",
       "      <td>a/DET peraon/ADJ bend/NOUN over/ADP use/VERB t...</td>\n",
       "      <td>0.0</td>\n",
       "      <td>0.0</td>\n",
       "    </tr>\n",
       "    <tr>\n",
       "      <th>...</th>\n",
       "      <td>...</td>\n",
       "      <td>...</td>\n",
       "      <td>...</td>\n",
       "      <td>...</td>\n",
       "      <td>...</td>\n",
       "    </tr>\n",
       "    <tr>\n",
       "      <th>87379</th>\n",
       "      <td>011420</td>\n",
       "      <td>a person steps back and gets ready to throw so...</td>\n",
       "      <td>a/DET person/NOUN step/VERB back/ADV and/CCONJ...</td>\n",
       "      <td>0.0</td>\n",
       "      <td>0.0</td>\n",
       "    </tr>\n",
       "    <tr>\n",
       "      <th>87380</th>\n",
       "      <td>011420</td>\n",
       "      <td>a person punches with their left hand.</td>\n",
       "      <td>a/DET person/NOUN punch/VERB with/ADP their/DE...</td>\n",
       "      <td>0.0</td>\n",
       "      <td>0.0</td>\n",
       "    </tr>\n",
       "    <tr>\n",
       "      <th>87381</th>\n",
       "      <td>M006119</td>\n",
       "      <td>a person is walking forward whilst limping wit...</td>\n",
       "      <td>a/DET person/NOUN is/AUX walk/VERB forward/ADV...</td>\n",
       "      <td>0.0</td>\n",
       "      <td>0.0</td>\n",
       "    </tr>\n",
       "    <tr>\n",
       "      <th>87382</th>\n",
       "      <td>M006119</td>\n",
       "      <td>person stands still then moves draging left fo...</td>\n",
       "      <td>person/NOUN stand/VERB still/ADV then/ADV move...</td>\n",
       "      <td>0.0</td>\n",
       "      <td>0.0</td>\n",
       "    </tr>\n",
       "    <tr>\n",
       "      <th>87383</th>\n",
       "      <td>M006119</td>\n",
       "      <td>a person limps forward in a diagonal line, tur...</td>\n",
       "      <td>a/DET person/NOUN limp/VERB forward/ADV in/ADP...</td>\n",
       "      <td>0.0</td>\n",
       "      <td>0.0</td>\n",
       "    </tr>\n",
       "  </tbody>\n",
       "</table>\n",
       "<p>87384 rows × 5 columns</p>\n",
       "</div>"
      ],
      "text/plain": [
       "      motion_id                                        description  \\\n",
       "0        011439  the person puts his hands by their mouth and t...   \n",
       "1        011439  person leans to the right and cups hands aroun...   \n",
       "2        011439    a person raised the hands and lean it into face   \n",
       "3        009276       the person bend over and pick some thing up.   \n",
       "4        009276  a peraon bends over, using the right leg to be...   \n",
       "...         ...                                                ...   \n",
       "87379    011420  a person steps back and gets ready to throw so...   \n",
       "87380    011420             a person punches with their left hand.   \n",
       "87381   M006119  a person is walking forward whilst limping wit...   \n",
       "87382   M006119  person stands still then moves draging left fo...   \n",
       "87383   M006119  a person limps forward in a diagonal line, tur...   \n",
       "\n",
       "                                                pos_tags  num1  num2  \n",
       "0      the/DET person/NOUN put/VERB his/DET hand/NOUN...   0.0   0.0  \n",
       "1      person/NOUN lean/VERB to/ADP the/DET right/NOU...   0.0   0.0  \n",
       "2      a/DET person/NOUN raise/VERB the/DET hand/NOUN...   0.0   0.0  \n",
       "3      the/DET person/NOUN bend/VERB over/ADP and/CCO...   0.0   0.0  \n",
       "4      a/DET peraon/ADJ bend/NOUN over/ADP use/VERB t...   0.0   0.0  \n",
       "...                                                  ...   ...   ...  \n",
       "87379  a/DET person/NOUN step/VERB back/ADV and/CCONJ...   0.0   0.0  \n",
       "87380  a/DET person/NOUN punch/VERB with/ADP their/DE...   0.0   0.0  \n",
       "87381  a/DET person/NOUN is/AUX walk/VERB forward/ADV...   0.0   0.0  \n",
       "87382  person/NOUN stand/VERB still/ADV then/ADV move...   0.0   0.0  \n",
       "87383  a/DET person/NOUN limp/VERB forward/ADV in/ADP...   0.0   0.0  \n",
       "\n",
       "[87384 rows x 5 columns]"
      ]
     },
     "execution_count": 4,
     "metadata": {},
     "output_type": "execute_result"
    }
   ],
   "source": [
    "h3d_df"
   ]
  },
  {
   "cell_type": "code",
   "execution_count": 5,
   "id": "822deaa1",
   "metadata": {},
   "outputs": [
    {
     "data": {
      "application/vnd.microsoft.datawrangler.viewer.v0+json": {
       "columns": [
        {
         "name": "index",
         "rawType": "int64",
         "type": "integer"
        },
        {
         "name": "motion_id",
         "rawType": "object",
         "type": "string"
        },
        {
         "name": "description",
         "rawType": "object",
         "type": "string"
        },
        {
         "name": "pos_tags",
         "rawType": "object",
         "type": "string"
        },
        {
         "name": "num1",
         "rawType": "float64",
         "type": "float"
        },
        {
         "name": "num2",
         "rawType": "float64",
         "type": "float"
        }
       ],
       "ref": "2fdff75f-ccd2-43b2-ba8a-742391040248",
       "rows": [
        [
         "32",
         "M014504",
         "person looks to be walking with a purpose ( maybe exercise)  and doing so while rotating their hips. the person is then slowed down towards the end of the sequence",
         "person/NOUN look/VERB to/PART be/AUX walk/VERB with/ADP a/DET purpose/NOUN maybe/ADV exercise/NOUN and/CCONJ do/VERB so/ADV while/SCONJ rotate/VERB their/DET hip/NOUN the/DET person/NOUN is/AUX then/ADV slow/VERB down/ADP towards/ADP the/DET end/NOUN of/ADP the/DET sequence/NOUN",
         "0.0",
         "0.0"
        ],
        [
         "34",
         "014541",
         "the man does 3 jumping jacks.",
         "the/DET man/NOUN does/AUX jump/VERB jack/NOUN",
         "0.0",
         "0.0"
        ],
        [
         "44",
         "M004717",
         "the figure walks forward a couple steps, turns 180 degrees and walks back.",
         "the/DET figure/NOUN walk/VERB forward/ADV a/DET couple/NOUN step/NOUN turn/VERB degree/NOUN and/CCONJ walk/VERB back/ADV",
         "0.0",
         "0.0"
        ],
        [
         "61",
         "M002400",
         "a person steps forward with their left foot and gestures out with their left arm 3 times.",
         "a/DET person/NOUN step/VERB forward/ADV with/ADP their/DET left/ADJ foot/NOUN and/CCONJ gesture/VERB out/ADP with/ADP their/DET left/ADJ arm/NOUN time/NOUN",
         "0.0",
         "0.0"
        ],
        [
         "114",
         "006623",
         "a figure side-steps quickly, like a basketball shuffle -- first to the left and then to the right",
         "a/DET figure/NOUN sidestep/VERB quickly/ADV like/SCONJ a/DET basketball/NOUN shuffle/NOUN first/ADV to/ADP the/DET left/NOUN and/CCONJ then/ADV to/ADP the/DET right/NOUN",
         "0.0",
         "0.0"
        ],
        [
         "188",
         "M014510",
         "a person squats while holding their hands up level with their head/",
         "a/DET person/NOUN squat/VERB while/SCONJ hold/VERB their/DET hand/NOUN up/ADP level/NOUN with/ADP their/DET",
         "0.0",
         "0.0"
        ],
        [
         "194",
         "M004703",
         "a person walks backwards in a circular pattern, completing about 60 percent of a circle.",
         "a/DET person/NOUN walk/VERB backwards/ADV in/ADP a/DET circular/ADJ pattern/NOUN complete/VERB about/ADV percent/NOUN of/ADP a/DET circle/NOUN",
         "0.0",
         "0.0"
        ],
        [
         "200",
         "005458",
         "a person takes 3 steps forward then turns around and runs.",
         "a/DET person/NOUN take/VERB step/NOUN forward/ADV then/ADV turn/VERB around/ADP and/CCONJ run/NOUN",
         "0.0",
         "0.0"
        ],
        [
         "217",
         "009262",
         "a person jumps in the air almost 270 degrees",
         "a/DET person/NOUN jump/VERB in/ADP the/DET air/NOUN almost/ADV degree/NOUN",
         "0.0",
         "0.0"
        ],
        [
         "219",
         "009262",
         "a person jumps in the air and spins 90 degrees.",
         "a/DET person/NOUN jump/VERB in/ADP the/DET air/NOUN and/CCONJ spin/VERB degree/NOUN",
         "0.0",
         "0.0"
        ],
        [
         "222",
         "M011468",
         "a person walks in a circle motion with both thier left and right,then leading both their hands in front of them making a scrathing motion",
         "a/DET person/NOUN walk/VERB in/ADP a/DET circle/NOUN motion/NOUN with/ADP both/CCONJ thier/ADJ left/NOUN and/CCONJ right/INTJ then/ADV lead/VERB both/CCONJ their/DET hand/NOUN in/ADP front/NOUN of/ADP them/PRON make/VERB a/DET scrathing/NOUN motion/NOUN",
         "0.0",
         "0.0"
        ],
        [
         "248",
         "003001",
         "person runs forward for 3 steps then stops then starts running again.",
         "person/NOUN run/VERB forward/ADV for/ADP step/NOUN then/ADV stop/VERB then/ADV start/VERB run/VERB again/ADV",
         "0.0",
         "3.0"
        ],
        [
         "254",
         "013212",
         "person makes move to scratch left armpit with left arm before dancing with arms waving in 's' figure.",
         "person/NOUN make/VERB move/NOUN to/PART scratch/VERB left/ADJ armpit/NOUN with/ADP left/ADJ arm/NOUN before/ADP dance/VERB with/ADP arm/NOUN wave/VERB in/ADP figure/NOUN",
         "0.0",
         "0.0"
        ],
        [
         "273",
         "M010986",
         "persons tries to sit indian style but cannot",
         "person/NOUN try/VERB to/PART sit/VERB indian/ADJ style/NOUN but/CCONJ can/VERB not/PART",
         "0.0",
         "0.0"
        ],
        [
         "300",
         "M006882",
         "the stick figure without a head shakes his right hand up and down 6 times, then moves his left hand slightly to the left, and then repeats the same thing again.",
         "the/DET stick/NOUN figure/NOUN without/ADP a/DET head/NOUN shake/VERB his/DET right/ADJ hand/NOUN up/ADP and/CCONJ down/ADP time/NOUN then/ADV move/VERB his/DET left/ADJ hand/NOUN slightly/ADV to/ADP the/DET left/NOUN and/CCONJ then/ADV repeat/VERB the/DET same/ADJ thing/NOUN again/ADV",
         "1.0",
         "8.0"
        ],
        [
         "339",
         "M005353",
         "a person walks forward,embarrassingly covers up their private area with both hands, and then grabs both shoulders before standing straight.",
         "a/DET person/NOUN walk/VERB forward/ADV embarrassingly/ADV cover/VERB up/ADP their/DET private/ADJ area/NOUN with/ADP both/DET hand/NOUN and/CCONJ then/ADV grab/VERB both/DET shoulder/NOUN before/ADP stand/VERB straight/ADV",
         "0.0",
         "0.0"
        ],
        [
         "347",
         "004008",
         "a person walks quickly in a diagonal direction for 8 steps and then turns to walk in the direction they came from.",
         "a/DET person/NOUN walk/VERB quickly/ADV in/ADP a/DET diagonal/ADJ direction/NOUN for/ADP step/NOUN and/CCONJ then/ADV turn/VERB to/PART walk/VERB in/ADP the/DET direction/NOUN they/PRON come/VERB from/ADP",
         "0.0",
         "0.0"
        ],
        [
         "457",
         "013206",
         "a man walks counter-clockwise, in a circle, takes 7 steps and then sits down just before getting back to where he started.",
         "a/DET man/NOUN walk/VERB counterclockwise/NOUN in/ADP a/DET circle/NOUN take/VERB step/NOUN and/CCONJ then/ADV sit/VERB down/ADP just/ADV before/ADP get/VERB back/ADV to/ADP where/ADV he/PRON start/VERB",
         "0.0",
         "0.0"
        ],
        [
         "646",
         "M006841",
         "a person is creeping/ tiptowing.",
         "a/DET person/NOUN is/AUX tiptowing/NOUN",
         "0.0",
         "0.0"
        ],
        [
         "672",
         "M014289",
         "the man takes 5 steps backwards.",
         "the/DET man/NOUN take/VERB step/NOUN backwards/ADV",
         "0.0",
         "0.0"
        ],
        [
         "680",
         "004961",
         "a person standing up in one position rotates 90 degrees clockwise to pick something up with their right hand by bending over, then they consume it by bringing their right hand to their mouth, then they put the object back down, then they return to their original position.",
         "a/DET person/NOUN stand/VERB up/ADP in/ADP one/NUM position/NOUN rotate/VERB degree/NOUN clockwise/VERB to/PART pick/VERB something/PRON up/ADP with/ADP their/DET right/ADJ hand/NOUN by/ADP bend/VERB over/ADP then/ADV they/PRON consume/VERB it/PRON by/ADP bring/VERB their/DET right/ADJ hand/NOUN to/ADP their/DET mouth/NOUN then/ADV they/PRON put/VERB the/DET object/NOUN back/ADV down/ADV then/ADV they/PRON return/VERB to/ADP their/DET original/ADJ position/NOUN",
         "0.0",
         "0.0"
        ],
        [
         "692",
         "008183",
         "the person squats down and jumps off of 2 feet then repeats the step once ending in a standing position.",
         "the/DET person/NOUN squat/VERB down/ADP and/CCONJ jump/VERB off/ADP of/ADP foot/NOUN then/ADV repeat/VERB the/DET step/NOUN once/ADV end/VERB in/ADP a/DET standing/ADJ position/NOUN",
         "0.0",
         "0.0"
        ],
        [
         "713",
         "006421",
         "a person sways back & forth while kicking their right foot out.",
         "a/DET person/NOUN sway/VERB back/ADV forth/ADV while/SCONJ kick/VERB their/DET right/ADJ foot/NOUN out/ADP",
         "0.0",
         "0.0"
        ],
        [
         "753",
         "004236",
         "a person walking in a fast pace as if he/she  is in a hurry",
         "a/DET person/NOUN walk/VERB in/ADP a/DET fast/ADJ pace/NOUN as/SCONJ if/SCONJ he/PRON she/PRON is/AUX in/ADP a/DET hurry/NOUN",
         "0.0",
         "0.0"
        ],
        [
         "810",
         "010525",
         "the man takes 4 steps backwards.",
         "the/DET man/NOUN take/VERB step/NOUN backwards/ADV",
         "0.0",
         "0.0"
        ],
        [
         "823",
         "009074",
         "the man street his body .",
         "the/DET man/PROPN street/VERB his/DET body/NOUN",
         "0.0",
         "0.0"
        ],
        [
         "829",
         "000722",
         "a person walks briskly in an 's' shape around the floor.",
         "a/DET person/NOUN walk/VERB briskly/ADV in/ADP an/DET shape/NOUN around/ADP the/DET floor/NOUN",
         "0.0",
         "0.0"
        ],
        [
         "854",
         "M009025",
         "the toon steps backward at an angle, before shuffling to the side & stopping.",
         "the/DET toon/NOUN step/VERB backward/ADV at/ADP an/DET angle/NOUN before/ADP shuffle/VERB to/ADP the/DET side/NOUN stopping/NOUN",
         "0.0",
         "4.0"
        ],
        [
         "873",
         "013038",
         "a person working out by what it seems as 2 dumbells",
         "a/DET person/NOUN work/VERB out/ADP by/ADP what/PRON it/PRON seem/VERB as/SCONJ dumbell/NOUN",
         "0.0",
         "0.0"
        ],
        [
         "1023",
         "011607",
         "a man walks in a circle for 10 seconds to stretch his legs after sitting for an extended period of time.",
         "a/DET man/NOUN walk/VERB in/ADP a/DET circle/NOUN for/ADP second/NOUN to/PART stretch/VERB his/DET leg/NOUN after/ADP sit/VERB for/ADP an/DET extended/ADJ period/NOUN of/ADP time/NOUN",
         "0.0",
         "0.0"
        ],
        [
         "1047",
         "M013055",
         "a man walks forward 2 steps, then turns, then walks 2 more steps.",
         "a/DET man/NOUN walk/VERB forward/ADV step/NOUN then/ADV turn/VERB then/ADV walk/VERB more/ADJ step/NOUN",
         "0.0",
         "0.0"
        ],
        [
         "1062",
         "M005623",
         "the man takes 2 steps forward.",
         "the/DET man/NOUN take/VERB step/NOUN forward/ADV",
         "0.0",
         "0.0"
        ],
        [
         "1092",
         "M007034",
         "a person is walking,then starts crawling forwards, then stands up and walks forwards",
         "a/DET person/NOUN is/AUX walk/VERB then/ADV start/VERB crawling/NOUN forwards/ADV then/ADV stand/VERB up/ADP and/CCONJ walk/VERB forwards/ADV",
         "0.0",
         "0.0"
        ],
        [
         "1101",
         "011613",
         "a man who is standing with his arms away from his sides starts walking to his left, stops, does a 180 degree turn and walks ten paces in the other direction and stops.",
         "a/DET man/NOUN who/PRON is/AUX stand/VERB with/ADP his/DET arm/NOUN away/ADV from/ADP his/DET side/NOUN start/VERB walk/VERB to/ADP his/DET left/NOUN stop/VERB does/AUX a/DET degree/NOUN turn/NOUN and/CCONJ walk/VERB ten/NUM pace/NOUN in/ADP the/DET other/ADJ direction/NOUN and/CCONJ stop/NOUN",
         "0.0",
         "0.0"
        ],
        [
         "1120",
         "M001323",
         "a man. stands up jump then does a push up. then runs in 4 circles. and then repeats 4 time.",
         "a/DET man/NOUN stand/VERB up/ADV jump/NOUN then/ADV does/AUX a/DET push/NOUN up/ADP then/ADV run/VERB in/ADP circle/NOUN and/CCONJ then/ADV repeat/VERB time/NOUN",
         "0.0",
         "0.0"
        ],
        [
         "1179",
         "013951",
         "a man takes one step forward, drops down on 1 knee and lowers his back and both hands, then lowers the other knee.",
         "a/DET man/NOUN take/VERB one/NUM step/NOUN forward/ADV drop/VERB down/ADV on/ADP knee/NOUN and/CCONJ lower/VERB his/DET back/NOUN and/CCONJ both/DET hand/NOUN then/ADV lower/VERB the/DET other/ADJ knee/NOUN",
         "0.0",
         "0.0"
        ],
        [
         "1227",
         "004587",
         "the person is sitting on something that is elevated. they place both feet evenly on the floor and get to a standing position. the person then walks to the right about 6 paces then turns back and goes to the original location.",
         "the/DET person/NOUN is/AUX sit/VERB on/ADP something/PRON that/DET is/AUX elevate/VERB they/PRON place/VERB both/DET foot/NOUN evenly/ADV on/ADP the/DET floor/NOUN and/CCONJ get/AUX to/ADP a/DET standing/ADJ position/NOUN the/DET person/NOUN then/ADV walk/VERB to/ADP the/DET right/NOUN about/ADV pace/NOUN then/ADV turn/VERB back/ADV and/CCONJ go/VERB to/ADP the/DET original/ADJ location/NOUN",
         "0.0",
         "0.0"
        ],
        [
         "1262",
         "007930",
         "a man walks forward and completely does an 180 turn with his right foot.",
         "a/DET man/NOUN walk/VERB forward/ADV and/CCONJ completely/ADV does/AUX an/DET turn/NOUN with/ADP his/DET right/ADJ foot/NOUN",
         "0.0",
         "0.0"
        ],
        [
         "1308",
         "002860",
         "a man is standing up while bringing his left hand to his chest then uses the left hand to lather/wash his chest in a circular motion.",
         "a/DET man/NOUN is/AUX stand/VERB up/ADP while/SCONJ bring/VERB his/DET left/ADJ hand/NOUN to/ADP his/DET chest/NOUN then/ADV use/VERB the/DET left/ADJ hand/NOUN to/PART lather/VERB wash/VERB his/DET chest/NOUN in/ADP a/DET circular/ADJ motion/NOUN",
         "0.0",
         "0.0"
        ],
        [
         "1330",
         "M001492",
         "a person feeling around , as if they are unable to see.",
         "a/DET person/NOUN feel/VERB around/ADV as/SCONJ if/SCONJ they/PRON are/AUX unable/ADJ to/PART see/VERB",
         "0.0",
         "0.0"
        ],
        [
         "1362",
         "M013082",
         "man wobbles back and forth then raises 1 arm.",
         "man/NOUN wobble/VERB back/ADV and/CCONJ forth/ADV then/ADV raise/VERB arm/NOUN",
         "0.0",
         "0.0"
        ],
        [
         "1403",
         "008578",
         "person runs in place, first to the left and then to the right, backs up and then runs in place to the left and then runs in place on the right making a circle facing forward. ,.",
         "person/NOUN run/VERB in/ADP place/NOUN first/ADV to/ADP the/DET left/NOUN and/CCONJ then/ADV to/ADP the/DET right/NOUN back/VERB up/ADP and/CCONJ then/ADV run/VERB in/ADP place/NOUN to/ADP the/DET left/NOUN and/CCONJ then/ADV run/VERB in/ADP place/NOUN on/ADP the/DET right/NOUN make/VERB a/DET circle/NOUN face/VERB forward/ADV",
         "0.0",
         "0.0"
        ],
        [
         "1448",
         "004342",
         "a person extending their arms from the elbows like they are holding a dance partner shuffles to the right turns around clockwise and shuffles one step to left completing a full circle 3 times.",
         "a/DET person/NOUN extend/VERB their/DET arm/NOUN from/ADP the/DET elbow/NOUN like/SCONJ they/PRON are/AUX hold/VERB a/DET dance/NOUN partner/NOUN shuffle/NOUN to/ADP the/DET right/NOUN turn/VERB around/ADP clockwise/NOUN and/CCONJ shuffle/VERB one/NUM step/NOUN to/ADP left/VERB complete/VERB a/DET full/ADJ circle/NOUN time/NOUN",
         "0.0",
         "0.0"
        ],
        [
         "1518",
         "M006262",
         "the sim walks from one end of the plane to the other, reaching to grab an object before turning around walking back & forth.",
         "the/DET sim/PROPN walk/VERB from/ADP one/NUM end/NOUN of/ADP the/DET plane/NOUN to/ADP the/DET other/ADJ reach/VERB to/PART grab/VERB an/DET object/NOUN before/ADP turn/VERB around/ADP walk/VERB back/ADV forth/ADV",
         "0.0",
         "10.0"
        ],
        [
         "1560",
         "M012217",
         "the man is doing jumping jacks, then proceeds to walk forward 2 feet and then back to his original spot.",
         "the/DET man/NOUN is/AUX do/VERB jump/VERB jack/NOUN then/ADV proceed/VERB to/PART walk/VERB forward/ADV foot/NOUN and/CCONJ then/ADV back/ADV to/ADP his/DET original/ADJ spot/NOUN",
         "0.0",
         "0.0"
        ],
        [
         "1562",
         "M002004",
         "a person walks to their right three steps, turns around, walks 5 steps, turns around and walks back to where they started.",
         "a/DET person/NOUN walk/VERB to/ADP their/DET right/ADJ three/NUM step/NOUN turn/VERB around/ADV walk/VERB step/NOUN turn/VERB around/ADV and/CCONJ walk/VERB back/ADV to/ADP where/ADV they/PRON start/VERB",
         "0.0",
         "0.0"
        ],
        [
         "1585",
         "M004313",
         "a person runs in place for 4 seconds.",
         "a/DET person/NOUN run/VERB in/ADP place/NOUN for/ADP second/NOUN",
         "0.0",
         "0.0"
        ],
        [
         "1653",
         "M003454",
         "a person doing jumping jacks .",
         "a/DET person/NOUN do/VERB jump/VERB jack/NOUN",
         "0.0",
         "0.0"
        ],
        [
         "1687",
         "M001243",
         "the person lowers his right arm from the head area down to his side, raises his left forearm up in front of him then down again,then uses both arms and hands in an up and down motion as if climbing a pole very quickly then puts them back to his side, then the person bends forward at the hip, then the person raises both arms to the head area as if confused, then the person finally takes both hands and moves towards the head and then out and forward as if taking off something on his head.",
         "the/DET person/NOUN lower/VERB his/DET right/ADJ arm/NOUN from/ADP the/DET head/NOUN area/NOUN down/ADV to/ADP his/DET side/NOUN raise/VERB his/DET left/ADJ forearm/NOUN up/ADP in/ADP front/NOUN of/ADP him/PRON then/ADV down/ADV again/ADV then/ADV use/VERB both/DET arm/NOUN and/CCONJ hand/NOUN in/ADP an/DET up/NOUN and/CCONJ down/ADP motion/NOUN as/SCONJ if/SCONJ climb/VERB a/DET pole/NOUN very/ADV quickly/ADV then/ADV put/VERB them/PRON back/ADV to/ADP his/DET side/NOUN then/ADV the/DET person/NOUN bend/VERB forward/ADV at/ADP the/DET hip/NOUN then/ADV the/DET person/NOUN raise/VERB both/DET arm/NOUN to/ADP the/DET head/NOUN area/NOUN as/SCONJ if/SCONJ confuse/VERB then/ADV the/DET person/NOUN finally/ADV take/VERB both/DET hand/NOUN and/CCONJ move/NOUN towards/ADP the/DET head/NOUN and/CCONJ then/ADV out/ADV and/CCONJ forward/ADV as/SCONJ if/SCONJ take/VERB off/ADP something/PRON on/ADP his/DET head/NOUN",
         "0.0",
         "0.0"
        ],
        [
         "1732",
         "M013121",
         "a person performs 3 jumping jacks in place.",
         "a/DET person/NOUN perform/VERB jump/VERB jack/NOUN in/ADP place/NOUN",
         "0.0",
         "0.0"
        ]
       ],
       "shape": {
        "columns": 5,
        "rows": 2718
       }
      },
      "text/html": [
       "<div>\n",
       "<style scoped>\n",
       "    .dataframe tbody tr th:only-of-type {\n",
       "        vertical-align: middle;\n",
       "    }\n",
       "\n",
       "    .dataframe tbody tr th {\n",
       "        vertical-align: top;\n",
       "    }\n",
       "\n",
       "    .dataframe thead th {\n",
       "        text-align: right;\n",
       "    }\n",
       "</style>\n",
       "<table border=\"1\" class=\"dataframe\">\n",
       "  <thead>\n",
       "    <tr style=\"text-align: right;\">\n",
       "      <th></th>\n",
       "      <th>motion_id</th>\n",
       "      <th>description</th>\n",
       "      <th>pos_tags</th>\n",
       "      <th>num1</th>\n",
       "      <th>num2</th>\n",
       "    </tr>\n",
       "  </thead>\n",
       "  <tbody>\n",
       "    <tr>\n",
       "      <th>32</th>\n",
       "      <td>M014504</td>\n",
       "      <td>person looks to be walking with a purpose ( ma...</td>\n",
       "      <td>person/NOUN look/VERB to/PART be/AUX walk/VERB...</td>\n",
       "      <td>0.0</td>\n",
       "      <td>0.0</td>\n",
       "    </tr>\n",
       "    <tr>\n",
       "      <th>34</th>\n",
       "      <td>014541</td>\n",
       "      <td>the man does 3 jumping jacks.</td>\n",
       "      <td>the/DET man/NOUN does/AUX jump/VERB jack/NOUN</td>\n",
       "      <td>0.0</td>\n",
       "      <td>0.0</td>\n",
       "    </tr>\n",
       "    <tr>\n",
       "      <th>44</th>\n",
       "      <td>M004717</td>\n",
       "      <td>the figure walks forward a couple steps, turns...</td>\n",
       "      <td>the/DET figure/NOUN walk/VERB forward/ADV a/DE...</td>\n",
       "      <td>0.0</td>\n",
       "      <td>0.0</td>\n",
       "    </tr>\n",
       "    <tr>\n",
       "      <th>61</th>\n",
       "      <td>M002400</td>\n",
       "      <td>a person steps forward with their left foot an...</td>\n",
       "      <td>a/DET person/NOUN step/VERB forward/ADV with/A...</td>\n",
       "      <td>0.0</td>\n",
       "      <td>0.0</td>\n",
       "    </tr>\n",
       "    <tr>\n",
       "      <th>114</th>\n",
       "      <td>006623</td>\n",
       "      <td>a figure side-steps quickly, like a basketball...</td>\n",
       "      <td>a/DET figure/NOUN sidestep/VERB quickly/ADV li...</td>\n",
       "      <td>0.0</td>\n",
       "      <td>0.0</td>\n",
       "    </tr>\n",
       "    <tr>\n",
       "      <th>...</th>\n",
       "      <td>...</td>\n",
       "      <td>...</td>\n",
       "      <td>...</td>\n",
       "      <td>...</td>\n",
       "      <td>...</td>\n",
       "    </tr>\n",
       "    <tr>\n",
       "      <th>87276</th>\n",
       "      <td>009509</td>\n",
       "      <td>a person does a 360 jump turn anticlockwise</td>\n",
       "      <td>a/DET person/NOUN does/AUX a/DET jump/NOUN tur...</td>\n",
       "      <td>0.0</td>\n",
       "      <td>0.0</td>\n",
       "    </tr>\n",
       "    <tr>\n",
       "      <th>87278</th>\n",
       "      <td>009509</td>\n",
       "      <td>a person jumps from a standstill and does a 36...</td>\n",
       "      <td>a/DET person/NOUN jump/VERB from/ADP a/DET sta...</td>\n",
       "      <td>0.0</td>\n",
       "      <td>0.0</td>\n",
       "    </tr>\n",
       "    <tr>\n",
       "      <th>87298</th>\n",
       "      <td>007524</td>\n",
       "      <td>a person who is running jogs 24 steps counterc...</td>\n",
       "      <td>a/DET person/NOUN who/PRON is/AUX run/VERB jog...</td>\n",
       "      <td>0.0</td>\n",
       "      <td>0.0</td>\n",
       "    </tr>\n",
       "    <tr>\n",
       "      <th>87367</th>\n",
       "      <td>M000568</td>\n",
       "      <td>a person standing raises their arms to shoulde...</td>\n",
       "      <td>a/DET person/NOUN stand/VERB raise/VERB their/...</td>\n",
       "      <td>0.0</td>\n",
       "      <td>0.0</td>\n",
       "    </tr>\n",
       "    <tr>\n",
       "      <th>87383</th>\n",
       "      <td>M006119</td>\n",
       "      <td>a person limps forward in a diagonal line, tur...</td>\n",
       "      <td>a/DET person/NOUN limp/VERB forward/ADV in/ADP...</td>\n",
       "      <td>0.0</td>\n",
       "      <td>0.0</td>\n",
       "    </tr>\n",
       "  </tbody>\n",
       "</table>\n",
       "<p>2718 rows × 5 columns</p>\n",
       "</div>"
      ],
      "text/plain": [
       "      motion_id                                        description  \\\n",
       "32      M014504  person looks to be walking with a purpose ( ma...   \n",
       "34       014541                      the man does 3 jumping jacks.   \n",
       "44      M004717  the figure walks forward a couple steps, turns...   \n",
       "61      M002400  a person steps forward with their left foot an...   \n",
       "114      006623  a figure side-steps quickly, like a basketball...   \n",
       "...         ...                                                ...   \n",
       "87276    009509        a person does a 360 jump turn anticlockwise   \n",
       "87278    009509  a person jumps from a standstill and does a 36...   \n",
       "87298    007524  a person who is running jogs 24 steps counterc...   \n",
       "87367   M000568  a person standing raises their arms to shoulde...   \n",
       "87383   M006119  a person limps forward in a diagonal line, tur...   \n",
       "\n",
       "                                                pos_tags  num1  num2  \n",
       "32     person/NOUN look/VERB to/PART be/AUX walk/VERB...   0.0   0.0  \n",
       "34         the/DET man/NOUN does/AUX jump/VERB jack/NOUN   0.0   0.0  \n",
       "44     the/DET figure/NOUN walk/VERB forward/ADV a/DE...   0.0   0.0  \n",
       "61     a/DET person/NOUN step/VERB forward/ADV with/A...   0.0   0.0  \n",
       "114    a/DET figure/NOUN sidestep/VERB quickly/ADV li...   0.0   0.0  \n",
       "...                                                  ...   ...   ...  \n",
       "87276  a/DET person/NOUN does/AUX a/DET jump/NOUN tur...   0.0   0.0  \n",
       "87278  a/DET person/NOUN jump/VERB from/ADP a/DET sta...   0.0   0.0  \n",
       "87298  a/DET person/NOUN who/PRON is/AUX run/VERB jog...   0.0   0.0  \n",
       "87367  a/DET person/NOUN stand/VERB raise/VERB their/...   0.0   0.0  \n",
       "87383  a/DET person/NOUN limp/VERB forward/ADV in/ADP...   0.0   0.0  \n",
       "\n",
       "[2718 rows x 5 columns]"
      ]
     },
     "execution_count": 5,
     "metadata": {},
     "output_type": "execute_result"
    }
   ],
   "source": [
    "mask = h3d_df[\"description\"].str.strip().str.split().str.len() != \\\n",
    "       h3d_df[\"pos_tags\"].str.strip().str.split().str.len()\n",
    "\n",
    "mismatch_df = h3d_df[mask]\n",
    "mismatch_df"
   ]
  },
  {
   "cell_type": "code",
   "execution_count": 6,
   "id": "350043ca",
   "metadata": {},
   "outputs": [],
   "source": [
    "# th.analysis_routine(h3d_df)"
   ]
  },
  {
   "cell_type": "code",
   "execution_count": 7,
   "id": "89335c0f",
   "metadata": {},
   "outputs": [],
   "source": [
    "# th.analysis_routine(kit_df)"
   ]
  },
  {
   "cell_type": "code",
   "execution_count": 17,
   "id": "fd6054d8",
   "metadata": {},
   "outputs": [
    {
     "name": "stdout",
     "output_type": "stream",
     "text": [
      "\n",
      "=== Intra-motion Similarity (MiniLM) ===\n",
      "Using device: mps\n",
      "{'backend': 'minilm', 'mean_of_means': 0.5800448759499252, 'median_of_means': 0.5837214589118958, 'quantiles': {0.1: 0.39382848143577576, 0.25: 0.4834771752357483, 0.5: 0.5837214589118958, 0.75: 0.6779015511274338, 0.9: 0.7596140503883362}}\n",
      "Top 10 most consistent motions (MiniLM):\n",
      "      motion_id  mean_intra_caption_sim  num_captions\n",
      "11777    011777                0.993266             3\n",
      "12854    012854                0.993049             3\n",
      "27470   M012854                0.993048             3\n",
      "23525   M008909                0.992602             3\n",
      "8909     008909                0.992602             3\n",
      "26393   M011777                0.991027             3\n",
      "25051   M010435                0.989314             3\n",
      "10435    010435                0.989314             3\n",
      "10270    010270                0.986668             3\n",
      "24886   M010270                0.986668             3\n",
      "Top 10 least consistent motions (MiniLM):\n",
      "      motion_id  mean_intra_caption_sim  num_captions\n",
      "22019   M007403                0.084758             3\n",
      "15356   M000740                0.094903             3\n",
      "740      000740                0.094903             3\n",
      "24836   M010220                0.101384             3\n",
      "10220    010220                0.101384             3\n",
      "7403     007403                0.102075             3\n",
      "11401    011401                0.102580             3\n",
      "26017   M011401                0.103215             3\n",
      "1541     001541                0.113053             3\n",
      "16157   M001541                0.113053             3\n",
      "\n",
      "=== Intra-motion Similarity (mpnet) ===\n",
      "Using device: mps\n"
     ]
    },
    {
     "name": "stderr",
     "output_type": "stream",
     "text": [
      "/Users/hannesmoehring/.pyenv/versions/glob/lib/python3.9/site-packages/torch/utils/data/dataloader.py:684: UserWarning: 'pin_memory' argument is set as true but not supported on MPS now, then device pinned memory won't be used.\n",
      "  warnings.warn(warn_msg)\n"
     ]
    },
    {
     "data": {
      "text/html": [
       "\n",
       "    <div>\n",
       "      \n",
       "      <progress value='1271' max='2722' style='width:300px; height:20px; vertical-align: middle;'></progress>\n",
       "      [1271/2722 12:37 < 14:25, 1.68 it/s, Epoch 0.93/2]\n",
       "    </div>\n",
       "    <table border=\"1\" class=\"dataframe\">\n",
       "  <thead>\n",
       " <tr style=\"text-align: left;\">\n",
       "      <th>Step</th>\n",
       "      <th>Training Loss</th>\n",
       "    </tr>\n",
       "  </thead>\n",
       "  <tbody>\n",
       "    <tr>\n",
       "      <td>500</td>\n",
       "      <td>2.135700</td>\n",
       "    </tr>\n",
       "    <tr>\n",
       "      <td>1000</td>\n",
       "      <td>1.695800</td>\n",
       "    </tr>\n",
       "  </tbody>\n",
       "</table><p>"
      ],
      "text/plain": [
       "<IPython.core.display.HTML object>"
      ]
     },
     "metadata": {},
     "output_type": "display_data"
    },
    {
     "ename": "KeyboardInterrupt",
     "evalue": "",
     "output_type": "error",
     "traceback": [
      "\u001b[0;31m---------------------------------------------------------------------------\u001b[0m",
      "\u001b[0;31mKeyboardInterrupt\u001b[0m                         Traceback (most recent call last)",
      "Cell \u001b[0;32mIn[17], line 1\u001b[0m\n\u001b[0;32m----> 1\u001b[0m data_h3d \u001b[38;5;241m=\u001b[39m \u001b[43mth\u001b[49m\u001b[38;5;241;43m.\u001b[39;49m\u001b[43mintramotion_similarity_nb\u001b[49m\u001b[43m(\u001b[49m\u001b[43mh3d_df\u001b[49m\u001b[43m)\u001b[49m\n",
      "File \u001b[0;32m~/LocalDocs/dlhm_local/data_analysis/textual/textual_help.py:263\u001b[0m, in \u001b[0;36mintramotion_similarity_nb\u001b[0;34m(df)\u001b[0m\n\u001b[1;32m    262\u001b[0m \u001b[38;5;28;01mdef\u001b[39;00m\u001b[38;5;250m \u001b[39m\u001b[38;5;21mintramotion_similarity_nb\u001b[39m(df):\n\u001b[0;32m--> 263\u001b[0m     data \u001b[38;5;241m=\u001b[39m \u001b[43mims\u001b[49m\u001b[38;5;241;43m.\u001b[39;49m\u001b[43mintramotion_similarity_compare\u001b[49m\u001b[43m(\u001b[49m\u001b[43mdf\u001b[49m\u001b[43m)\u001b[49m\n\u001b[1;32m    264\u001b[0m     \u001b[38;5;28mprint\u001b[39m(\u001b[38;5;124m\"\u001b[39m\u001b[38;5;130;01m\\n\u001b[39;00m\u001b[38;5;124m=== Backend comparison ===\u001b[39m\u001b[38;5;124m\"\u001b[39m)\n\u001b[1;32m    265\u001b[0m     \u001b[38;5;28mprint\u001b[39m(data[\u001b[38;5;124m\"\u001b[39m\u001b[38;5;124msummary_table\u001b[39m\u001b[38;5;124m\"\u001b[39m])\n",
      "File \u001b[0;32m~/LocalDocs/dlhm_local/data_analysis/textual/tools/IMS.py:91\u001b[0m, in \u001b[0;36mIntraMotionSimilarity.intramotion_similarity_compare\u001b[0;34m(self, df)\u001b[0m\n\u001b[1;32m     88\u001b[0m \u001b[38;5;28mprint\u001b[39m(mini_df\u001b[38;5;241m.\u001b[39mhead(\u001b[38;5;241m10\u001b[39m)[[\u001b[38;5;124m\"\u001b[39m\u001b[38;5;124mmotion_id\u001b[39m\u001b[38;5;124m\"\u001b[39m, \u001b[38;5;124m\"\u001b[39m\u001b[38;5;124mmean_intra_caption_sim\u001b[39m\u001b[38;5;124m\"\u001b[39m, \u001b[38;5;124m\"\u001b[39m\u001b[38;5;124mnum_captions\u001b[39m\u001b[38;5;124m\"\u001b[39m]])\n\u001b[1;32m     90\u001b[0m \u001b[38;5;28mprint\u001b[39m(\u001b[38;5;124m\"\u001b[39m\u001b[38;5;130;01m\\n\u001b[39;00m\u001b[38;5;124m=== Intra-motion Similarity (mpnet) ===\u001b[39m\u001b[38;5;124m\"\u001b[39m)\n\u001b[0;32m---> 91\u001b[0m mpnet_df, mpnet_sum \u001b[38;5;241m=\u001b[39m \u001b[38;5;28;43mself\u001b[39;49m\u001b[38;5;241;43m.\u001b[39;49m\u001b[43mintramotion_similarity\u001b[49m\u001b[43m(\u001b[49m\u001b[43mdf\u001b[49m\u001b[43m,\u001b[49m\u001b[43m \u001b[49m\u001b[43mmodel\u001b[49m\u001b[38;5;241;43m=\u001b[39;49m\u001b[38;5;124;43m\"\u001b[39;49m\u001b[38;5;124;43mmpnet\u001b[39;49m\u001b[38;5;124;43m\"\u001b[39;49m\u001b[43m)\u001b[49m\n\u001b[1;32m     92\u001b[0m \u001b[38;5;28mprint\u001b[39m(mpnet_sum)\n\u001b[1;32m     93\u001b[0m \u001b[38;5;28mprint\u001b[39m(\u001b[38;5;124m\"\u001b[39m\u001b[38;5;124mTop 10 most consistent motions (mpnet):\u001b[39m\u001b[38;5;124m\"\u001b[39m)\n",
      "File \u001b[0;32m~/LocalDocs/dlhm_local/data_analysis/textual/tools/IMS.py:40\u001b[0m, in \u001b[0;36mIntraMotionSimilarity.intramotion_similarity\u001b[0;34m(self, df, model)\u001b[0m\n\u001b[1;32m     38\u001b[0m df \u001b[38;5;241m=\u001b[39m \u001b[38;5;28mself\u001b[39m\u001b[38;5;241m.\u001b[39mensure_parsed(df\u001b[38;5;241m.\u001b[39mcopy())\n\u001b[1;32m     39\u001b[0m \u001b[38;5;66;03m# Precompute embeddings once\u001b[39;00m\n\u001b[0;32m---> 40\u001b[0m Z, label \u001b[38;5;241m=\u001b[39m \u001b[38;5;28;43mself\u001b[39;49m\u001b[38;5;241;43m.\u001b[39;49m\u001b[43msentence_embeddings\u001b[49m\u001b[43m(\u001b[49m\u001b[43mdf\u001b[49m\u001b[43m,\u001b[49m\u001b[43m \u001b[49m\u001b[43mmodel\u001b[49m\u001b[38;5;241;43m=\u001b[39;49m\u001b[43mmodel\u001b[49m\u001b[43m)\u001b[49m\n\u001b[1;32m     41\u001b[0m \u001b[38;5;66;03m# Map row idx -> vector\u001b[39;00m\n\u001b[1;32m     42\u001b[0m idx_to_vec \u001b[38;5;241m=\u001b[39m {i: Z[i] \u001b[38;5;28;01mfor\u001b[39;00m i \u001b[38;5;129;01min\u001b[39;00m \u001b[38;5;28mrange\u001b[39m(\u001b[38;5;28mlen\u001b[39m(Z))}\n",
      "File \u001b[0;32m~/LocalDocs/dlhm_local/data_analysis/textual/tools/IMS.py:142\u001b[0m, in \u001b[0;36mIntraMotionSimilarity.sentence_embeddings\u001b[0;34m(self, df, model)\u001b[0m\n\u001b[1;32m    140\u001b[0m loader \u001b[38;5;241m=\u001b[39m DataLoader(pairs, batch_size\u001b[38;5;241m=\u001b[39m\u001b[38;5;241m64\u001b[39m, shuffle\u001b[38;5;241m=\u001b[39m\u001b[38;5;28;01mTrue\u001b[39;00m, drop_last\u001b[38;5;241m=\u001b[39m\u001b[38;5;28;01mTrue\u001b[39;00m)\n\u001b[1;32m    141\u001b[0m loss \u001b[38;5;241m=\u001b[39m losses\u001b[38;5;241m.\u001b[39mMultipleNegativesRankingLoss(model)\n\u001b[0;32m--> 142\u001b[0m model\u001b[38;5;241m.\u001b[39mfit([(loader, loss)], epochs\u001b[38;5;241m=\u001b[39m\u001b[38;5;241m2\u001b[39m, warmup_steps\u001b[38;5;241m=\u001b[39m\u001b[38;5;28mint\u001b[39m(\u001b[38;5;241m0.1\u001b[39m \u001b[38;5;241m*\u001b[39m \u001b[38;5;28mlen\u001b[39m(loader) \u001b[38;5;241m*\u001b[39m \u001b[38;5;241m2\u001b[39m), optimizer_params\u001b[38;5;241m=\u001b[39m{\u001b[38;5;124m\"\u001b[39m\u001b[38;5;124mlr\u001b[39m\u001b[38;5;124m\"\u001b[39m: \u001b[38;5;241m2e-5\u001b[39m})\n\u001b[1;32m    143\u001b[0m emb \u001b[38;5;241m=\u001b[39m model\u001b[38;5;241m.\u001b[39mencode(texts, show_progress_bar\u001b[38;5;241m=\u001b[39m\u001b[38;5;28;01mFalse\u001b[39;00m, normalize_embeddings\u001b[38;5;241m=\u001b[39m\u001b[38;5;28;01mTrue\u001b[39;00m)\n\u001b[1;32m    144\u001b[0m \u001b[38;5;28;01mreturn\u001b[39;00m np\u001b[38;5;241m.\u001b[39masarray(emb), \u001b[38;5;124m\"\u001b[39m\u001b[38;5;124mmpnet\u001b[39m\u001b[38;5;124m\"\u001b[39m\n",
      "File \u001b[0;32m~/.pyenv/versions/glob/lib/python3.9/site-packages/sentence_transformers/fit_mixin.py:408\u001b[0m, in \u001b[0;36mFitMixin.fit\u001b[0;34m(self, train_objectives, evaluator, epochs, steps_per_epoch, scheduler, warmup_steps, optimizer_class, optimizer_params, weight_decay, evaluation_steps, output_path, save_best_model, max_grad_norm, use_amp, callback, show_progress_bar, checkpoint_path, checkpoint_save_steps, checkpoint_save_total_limit, resume_from_checkpoint)\u001b[0m\n\u001b[1;32m    405\u001b[0m         logger\u001b[38;5;241m.\u001b[39mwarning(\u001b[38;5;124mf\u001b[39m\u001b[38;5;124m\"\u001b[39m\u001b[38;5;124mCheckpoint directory does not exist or is not a directory: \u001b[39m\u001b[38;5;132;01m{\u001b[39;00mcheckpoint_path\u001b[38;5;132;01m}\u001b[39;00m\u001b[38;5;124m\"\u001b[39m)\n\u001b[1;32m    406\u001b[0m         resume_from_checkpoint \u001b[38;5;241m=\u001b[39m \u001b[38;5;28;01mNone\u001b[39;00m\n\u001b[0;32m--> 408\u001b[0m \u001b[43mtrainer\u001b[49m\u001b[38;5;241;43m.\u001b[39;49m\u001b[43mtrain\u001b[49m\u001b[43m(\u001b[49m\u001b[43mresume_from_checkpoint\u001b[49m\u001b[38;5;241;43m=\u001b[39;49m\u001b[43mresume_from_checkpoint\u001b[49m\u001b[43m)\u001b[49m\n",
      "File \u001b[0;32m~/.pyenv/versions/glob/lib/python3.9/site-packages/transformers/trainer.py:2328\u001b[0m, in \u001b[0;36mTrainer.train\u001b[0;34m(self, resume_from_checkpoint, trial, ignore_keys_for_eval, **kwargs)\u001b[0m\n\u001b[1;32m   2326\u001b[0m         hf_hub_utils\u001b[38;5;241m.\u001b[39menable_progress_bars()\n\u001b[1;32m   2327\u001b[0m \u001b[38;5;28;01melse\u001b[39;00m:\n\u001b[0;32m-> 2328\u001b[0m     \u001b[38;5;28;01mreturn\u001b[39;00m \u001b[43minner_training_loop\u001b[49m\u001b[43m(\u001b[49m\n\u001b[1;32m   2329\u001b[0m \u001b[43m        \u001b[49m\u001b[43margs\u001b[49m\u001b[38;5;241;43m=\u001b[39;49m\u001b[43margs\u001b[49m\u001b[43m,\u001b[49m\n\u001b[1;32m   2330\u001b[0m \u001b[43m        \u001b[49m\u001b[43mresume_from_checkpoint\u001b[49m\u001b[38;5;241;43m=\u001b[39;49m\u001b[43mresume_from_checkpoint\u001b[49m\u001b[43m,\u001b[49m\n\u001b[1;32m   2331\u001b[0m \u001b[43m        \u001b[49m\u001b[43mtrial\u001b[49m\u001b[38;5;241;43m=\u001b[39;49m\u001b[43mtrial\u001b[49m\u001b[43m,\u001b[49m\n\u001b[1;32m   2332\u001b[0m \u001b[43m        \u001b[49m\u001b[43mignore_keys_for_eval\u001b[49m\u001b[38;5;241;43m=\u001b[39;49m\u001b[43mignore_keys_for_eval\u001b[49m\u001b[43m,\u001b[49m\n\u001b[1;32m   2333\u001b[0m \u001b[43m    \u001b[49m\u001b[43m)\u001b[49m\n",
      "File \u001b[0;32m~/.pyenv/versions/glob/lib/python3.9/site-packages/transformers/trainer.py:2672\u001b[0m, in \u001b[0;36mTrainer._inner_training_loop\u001b[0;34m(self, batch_size, args, resume_from_checkpoint, trial, ignore_keys_for_eval)\u001b[0m\n\u001b[1;32m   2665\u001b[0m context \u001b[38;5;241m=\u001b[39m (\n\u001b[1;32m   2666\u001b[0m     functools\u001b[38;5;241m.\u001b[39mpartial(\u001b[38;5;28mself\u001b[39m\u001b[38;5;241m.\u001b[39maccelerator\u001b[38;5;241m.\u001b[39mno_sync, model\u001b[38;5;241m=\u001b[39mmodel)\n\u001b[1;32m   2667\u001b[0m     \u001b[38;5;28;01mif\u001b[39;00m i \u001b[38;5;241m!=\u001b[39m \u001b[38;5;28mlen\u001b[39m(batch_samples) \u001b[38;5;241m-\u001b[39m \u001b[38;5;241m1\u001b[39m\n\u001b[1;32m   2668\u001b[0m     \u001b[38;5;129;01mand\u001b[39;00m \u001b[38;5;28mself\u001b[39m\u001b[38;5;241m.\u001b[39maccelerator\u001b[38;5;241m.\u001b[39mdistributed_type \u001b[38;5;241m!=\u001b[39m DistributedType\u001b[38;5;241m.\u001b[39mDEEPSPEED\n\u001b[1;32m   2669\u001b[0m     \u001b[38;5;28;01melse\u001b[39;00m contextlib\u001b[38;5;241m.\u001b[39mnullcontext\n\u001b[1;32m   2670\u001b[0m )\n\u001b[1;32m   2671\u001b[0m \u001b[38;5;28;01mwith\u001b[39;00m context():\n\u001b[0;32m-> 2672\u001b[0m     tr_loss_step \u001b[38;5;241m=\u001b[39m \u001b[38;5;28;43mself\u001b[39;49m\u001b[38;5;241;43m.\u001b[39;49m\u001b[43mtraining_step\u001b[49m\u001b[43m(\u001b[49m\u001b[43mmodel\u001b[49m\u001b[43m,\u001b[49m\u001b[43m \u001b[49m\u001b[43minputs\u001b[49m\u001b[43m,\u001b[49m\u001b[43m \u001b[49m\u001b[43mnum_items_in_batch\u001b[49m\u001b[43m)\u001b[49m\n\u001b[1;32m   2674\u001b[0m \u001b[38;5;28;01mif\u001b[39;00m (\n\u001b[1;32m   2675\u001b[0m     args\u001b[38;5;241m.\u001b[39mlogging_nan_inf_filter\n\u001b[1;32m   2676\u001b[0m     \u001b[38;5;129;01mand\u001b[39;00m \u001b[38;5;129;01mnot\u001b[39;00m is_torch_xla_available()\n\u001b[1;32m   2677\u001b[0m     \u001b[38;5;129;01mand\u001b[39;00m (torch\u001b[38;5;241m.\u001b[39misnan(tr_loss_step) \u001b[38;5;129;01mor\u001b[39;00m torch\u001b[38;5;241m.\u001b[39misinf(tr_loss_step))\n\u001b[1;32m   2678\u001b[0m ):\n\u001b[1;32m   2679\u001b[0m     \u001b[38;5;66;03m# if loss is nan or inf simply add the average of previous logged losses\u001b[39;00m\n\u001b[1;32m   2680\u001b[0m     tr_loss \u001b[38;5;241m=\u001b[39m tr_loss \u001b[38;5;241m+\u001b[39m tr_loss \u001b[38;5;241m/\u001b[39m (\u001b[38;5;241m1\u001b[39m \u001b[38;5;241m+\u001b[39m \u001b[38;5;28mself\u001b[39m\u001b[38;5;241m.\u001b[39mstate\u001b[38;5;241m.\u001b[39mglobal_step \u001b[38;5;241m-\u001b[39m \u001b[38;5;28mself\u001b[39m\u001b[38;5;241m.\u001b[39m_globalstep_last_logged)\n",
      "File \u001b[0;32m~/.pyenv/versions/glob/lib/python3.9/site-packages/transformers/trainer.py:4009\u001b[0m, in \u001b[0;36mTrainer.training_step\u001b[0;34m(self, model, inputs, num_items_in_batch)\u001b[0m\n\u001b[1;32m   4006\u001b[0m     \u001b[38;5;28;01mreturn\u001b[39;00m loss_mb\u001b[38;5;241m.\u001b[39mreduce_mean()\u001b[38;5;241m.\u001b[39mdetach()\u001b[38;5;241m.\u001b[39mto(\u001b[38;5;28mself\u001b[39m\u001b[38;5;241m.\u001b[39margs\u001b[38;5;241m.\u001b[39mdevice)\n\u001b[1;32m   4008\u001b[0m \u001b[38;5;28;01mwith\u001b[39;00m \u001b[38;5;28mself\u001b[39m\u001b[38;5;241m.\u001b[39mcompute_loss_context_manager():\n\u001b[0;32m-> 4009\u001b[0m     loss \u001b[38;5;241m=\u001b[39m \u001b[38;5;28;43mself\u001b[39;49m\u001b[38;5;241;43m.\u001b[39;49m\u001b[43mcompute_loss\u001b[49m\u001b[43m(\u001b[49m\u001b[43mmodel\u001b[49m\u001b[43m,\u001b[49m\u001b[43m \u001b[49m\u001b[43minputs\u001b[49m\u001b[43m,\u001b[49m\u001b[43m \u001b[49m\u001b[43mnum_items_in_batch\u001b[49m\u001b[38;5;241;43m=\u001b[39;49m\u001b[43mnum_items_in_batch\u001b[49m\u001b[43m)\u001b[49m\n\u001b[1;32m   4011\u001b[0m \u001b[38;5;28;01mdel\u001b[39;00m inputs\n\u001b[1;32m   4012\u001b[0m \u001b[38;5;28;01mif\u001b[39;00m (\n\u001b[1;32m   4013\u001b[0m     \u001b[38;5;28mself\u001b[39m\u001b[38;5;241m.\u001b[39margs\u001b[38;5;241m.\u001b[39mtorch_empty_cache_steps \u001b[38;5;129;01mis\u001b[39;00m \u001b[38;5;129;01mnot\u001b[39;00m \u001b[38;5;28;01mNone\u001b[39;00m\n\u001b[1;32m   4014\u001b[0m     \u001b[38;5;129;01mand\u001b[39;00m \u001b[38;5;28mself\u001b[39m\u001b[38;5;241m.\u001b[39mstate\u001b[38;5;241m.\u001b[39mglobal_step \u001b[38;5;241m%\u001b[39m \u001b[38;5;28mself\u001b[39m\u001b[38;5;241m.\u001b[39margs\u001b[38;5;241m.\u001b[39mtorch_empty_cache_steps \u001b[38;5;241m==\u001b[39m \u001b[38;5;241m0\u001b[39m\n\u001b[1;32m   4015\u001b[0m ):\n",
      "File \u001b[0;32m~/.pyenv/versions/glob/lib/python3.9/site-packages/sentence_transformers/trainer.py:431\u001b[0m, in \u001b[0;36mSentenceTransformerTrainer.compute_loss\u001b[0;34m(self, model, inputs, return_outputs, num_items_in_batch)\u001b[0m\n\u001b[1;32m    425\u001b[0m \u001b[38;5;28;01mif\u001b[39;00m (\n\u001b[1;32m    426\u001b[0m     model \u001b[38;5;241m==\u001b[39m \u001b[38;5;28mself\u001b[39m\u001b[38;5;241m.\u001b[39mmodel_wrapped\n\u001b[1;32m    427\u001b[0m     \u001b[38;5;129;01mand\u001b[39;00m \u001b[38;5;28mhasattr\u001b[39m(loss_fn, \u001b[38;5;124m\"\u001b[39m\u001b[38;5;124mmodel\u001b[39m\u001b[38;5;124m\"\u001b[39m)  \u001b[38;5;66;03m# Only if the loss stores the model\u001b[39;00m\n\u001b[1;32m    428\u001b[0m     \u001b[38;5;129;01mand\u001b[39;00m loss_fn\u001b[38;5;241m.\u001b[39mmodel \u001b[38;5;241m!=\u001b[39m model  \u001b[38;5;66;03m# Only if the wrapped model is not already stored\u001b[39;00m\n\u001b[1;32m    429\u001b[0m ):\n\u001b[1;32m    430\u001b[0m     loss_fn \u001b[38;5;241m=\u001b[39m \u001b[38;5;28mself\u001b[39m\u001b[38;5;241m.\u001b[39moverride_model_in_loss(loss_fn, model)\n\u001b[0;32m--> 431\u001b[0m loss \u001b[38;5;241m=\u001b[39m \u001b[43mloss_fn\u001b[49m\u001b[43m(\u001b[49m\u001b[43mfeatures\u001b[49m\u001b[43m,\u001b[49m\u001b[43m \u001b[49m\u001b[43mlabels\u001b[49m\u001b[43m)\u001b[49m\n\u001b[1;32m    432\u001b[0m \u001b[38;5;28;01mif\u001b[39;00m \u001b[38;5;28misinstance\u001b[39m(loss, \u001b[38;5;28mdict\u001b[39m):\n\u001b[1;32m    433\u001b[0m     \u001b[38;5;28mself\u001b[39m\u001b[38;5;241m.\u001b[39mtrack_loss_components(loss)\n",
      "File \u001b[0;32m~/.pyenv/versions/glob/lib/python3.9/site-packages/torch/nn/modules/module.py:1773\u001b[0m, in \u001b[0;36mModule._wrapped_call_impl\u001b[0;34m(self, *args, **kwargs)\u001b[0m\n\u001b[1;32m   1771\u001b[0m     \u001b[38;5;28;01mreturn\u001b[39;00m \u001b[38;5;28mself\u001b[39m\u001b[38;5;241m.\u001b[39m_compiled_call_impl(\u001b[38;5;241m*\u001b[39margs, \u001b[38;5;241m*\u001b[39m\u001b[38;5;241m*\u001b[39mkwargs)  \u001b[38;5;66;03m# type: ignore[misc]\u001b[39;00m\n\u001b[1;32m   1772\u001b[0m \u001b[38;5;28;01melse\u001b[39;00m:\n\u001b[0;32m-> 1773\u001b[0m     \u001b[38;5;28;01mreturn\u001b[39;00m \u001b[38;5;28;43mself\u001b[39;49m\u001b[38;5;241;43m.\u001b[39;49m\u001b[43m_call_impl\u001b[49m\u001b[43m(\u001b[49m\u001b[38;5;241;43m*\u001b[39;49m\u001b[43margs\u001b[49m\u001b[43m,\u001b[49m\u001b[43m \u001b[49m\u001b[38;5;241;43m*\u001b[39;49m\u001b[38;5;241;43m*\u001b[39;49m\u001b[43mkwargs\u001b[49m\u001b[43m)\u001b[49m\n",
      "File \u001b[0;32m~/.pyenv/versions/glob/lib/python3.9/site-packages/torch/nn/modules/module.py:1784\u001b[0m, in \u001b[0;36mModule._call_impl\u001b[0;34m(self, *args, **kwargs)\u001b[0m\n\u001b[1;32m   1779\u001b[0m \u001b[38;5;66;03m# If we don't have any hooks, we want to skip the rest of the logic in\u001b[39;00m\n\u001b[1;32m   1780\u001b[0m \u001b[38;5;66;03m# this function, and just call forward.\u001b[39;00m\n\u001b[1;32m   1781\u001b[0m \u001b[38;5;28;01mif\u001b[39;00m \u001b[38;5;129;01mnot\u001b[39;00m (\u001b[38;5;28mself\u001b[39m\u001b[38;5;241m.\u001b[39m_backward_hooks \u001b[38;5;129;01mor\u001b[39;00m \u001b[38;5;28mself\u001b[39m\u001b[38;5;241m.\u001b[39m_backward_pre_hooks \u001b[38;5;129;01mor\u001b[39;00m \u001b[38;5;28mself\u001b[39m\u001b[38;5;241m.\u001b[39m_forward_hooks \u001b[38;5;129;01mor\u001b[39;00m \u001b[38;5;28mself\u001b[39m\u001b[38;5;241m.\u001b[39m_forward_pre_hooks\n\u001b[1;32m   1782\u001b[0m         \u001b[38;5;129;01mor\u001b[39;00m _global_backward_pre_hooks \u001b[38;5;129;01mor\u001b[39;00m _global_backward_hooks\n\u001b[1;32m   1783\u001b[0m         \u001b[38;5;129;01mor\u001b[39;00m _global_forward_hooks \u001b[38;5;129;01mor\u001b[39;00m _global_forward_pre_hooks):\n\u001b[0;32m-> 1784\u001b[0m     \u001b[38;5;28;01mreturn\u001b[39;00m \u001b[43mforward_call\u001b[49m\u001b[43m(\u001b[49m\u001b[38;5;241;43m*\u001b[39;49m\u001b[43margs\u001b[49m\u001b[43m,\u001b[49m\u001b[43m \u001b[49m\u001b[38;5;241;43m*\u001b[39;49m\u001b[38;5;241;43m*\u001b[39;49m\u001b[43mkwargs\u001b[49m\u001b[43m)\u001b[49m\n\u001b[1;32m   1786\u001b[0m result \u001b[38;5;241m=\u001b[39m \u001b[38;5;28;01mNone\u001b[39;00m\n\u001b[1;32m   1787\u001b[0m called_always_called_hooks \u001b[38;5;241m=\u001b[39m \u001b[38;5;28mset\u001b[39m()\n",
      "File \u001b[0;32m~/.pyenv/versions/glob/lib/python3.9/site-packages/sentence_transformers/losses/MultipleNegativesRankingLoss.py:113\u001b[0m, in \u001b[0;36mMultipleNegativesRankingLoss.forward\u001b[0;34m(self, sentence_features, labels)\u001b[0m\n\u001b[1;32m    111\u001b[0m \u001b[38;5;28;01mdef\u001b[39;00m\u001b[38;5;250m \u001b[39m\u001b[38;5;21mforward\u001b[39m(\u001b[38;5;28mself\u001b[39m, sentence_features: Iterable[\u001b[38;5;28mdict\u001b[39m[\u001b[38;5;28mstr\u001b[39m, Tensor]], labels: Tensor) \u001b[38;5;241m-\u001b[39m\u001b[38;5;241m>\u001b[39m Tensor:\n\u001b[1;32m    112\u001b[0m     \u001b[38;5;66;03m# Compute the embeddings and distribute them to anchor and candidates (positive and optionally negatives)\u001b[39;00m\n\u001b[0;32m--> 113\u001b[0m     embeddings \u001b[38;5;241m=\u001b[39m [\u001b[38;5;28mself\u001b[39m\u001b[38;5;241m.\u001b[39mmodel(sentence_feature)[\u001b[38;5;124m\"\u001b[39m\u001b[38;5;124msentence_embedding\u001b[39m\u001b[38;5;124m\"\u001b[39m] \u001b[38;5;28;01mfor\u001b[39;00m sentence_feature \u001b[38;5;129;01min\u001b[39;00m sentence_features]\n\u001b[1;32m    115\u001b[0m     \u001b[38;5;28;01mreturn\u001b[39;00m \u001b[38;5;28mself\u001b[39m\u001b[38;5;241m.\u001b[39mcompute_loss_from_embeddings(embeddings, labels)\n",
      "File \u001b[0;32m~/.pyenv/versions/glob/lib/python3.9/site-packages/sentence_transformers/losses/MultipleNegativesRankingLoss.py:113\u001b[0m, in \u001b[0;36m<listcomp>\u001b[0;34m(.0)\u001b[0m\n\u001b[1;32m    111\u001b[0m \u001b[38;5;28;01mdef\u001b[39;00m\u001b[38;5;250m \u001b[39m\u001b[38;5;21mforward\u001b[39m(\u001b[38;5;28mself\u001b[39m, sentence_features: Iterable[\u001b[38;5;28mdict\u001b[39m[\u001b[38;5;28mstr\u001b[39m, Tensor]], labels: Tensor) \u001b[38;5;241m-\u001b[39m\u001b[38;5;241m>\u001b[39m Tensor:\n\u001b[1;32m    112\u001b[0m     \u001b[38;5;66;03m# Compute the embeddings and distribute them to anchor and candidates (positive and optionally negatives)\u001b[39;00m\n\u001b[0;32m--> 113\u001b[0m     embeddings \u001b[38;5;241m=\u001b[39m [\u001b[38;5;28;43mself\u001b[39;49m\u001b[38;5;241;43m.\u001b[39;49m\u001b[43mmodel\u001b[49m\u001b[43m(\u001b[49m\u001b[43msentence_feature\u001b[49m\u001b[43m)\u001b[49m[\u001b[38;5;124m\"\u001b[39m\u001b[38;5;124msentence_embedding\u001b[39m\u001b[38;5;124m\"\u001b[39m] \u001b[38;5;28;01mfor\u001b[39;00m sentence_feature \u001b[38;5;129;01min\u001b[39;00m sentence_features]\n\u001b[1;32m    115\u001b[0m     \u001b[38;5;28;01mreturn\u001b[39;00m \u001b[38;5;28mself\u001b[39m\u001b[38;5;241m.\u001b[39mcompute_loss_from_embeddings(embeddings, labels)\n",
      "File \u001b[0;32m~/.pyenv/versions/glob/lib/python3.9/site-packages/torch/nn/modules/module.py:1773\u001b[0m, in \u001b[0;36mModule._wrapped_call_impl\u001b[0;34m(self, *args, **kwargs)\u001b[0m\n\u001b[1;32m   1771\u001b[0m     \u001b[38;5;28;01mreturn\u001b[39;00m \u001b[38;5;28mself\u001b[39m\u001b[38;5;241m.\u001b[39m_compiled_call_impl(\u001b[38;5;241m*\u001b[39margs, \u001b[38;5;241m*\u001b[39m\u001b[38;5;241m*\u001b[39mkwargs)  \u001b[38;5;66;03m# type: ignore[misc]\u001b[39;00m\n\u001b[1;32m   1772\u001b[0m \u001b[38;5;28;01melse\u001b[39;00m:\n\u001b[0;32m-> 1773\u001b[0m     \u001b[38;5;28;01mreturn\u001b[39;00m \u001b[38;5;28;43mself\u001b[39;49m\u001b[38;5;241;43m.\u001b[39;49m\u001b[43m_call_impl\u001b[49m\u001b[43m(\u001b[49m\u001b[38;5;241;43m*\u001b[39;49m\u001b[43margs\u001b[49m\u001b[43m,\u001b[49m\u001b[43m \u001b[49m\u001b[38;5;241;43m*\u001b[39;49m\u001b[38;5;241;43m*\u001b[39;49m\u001b[43mkwargs\u001b[49m\u001b[43m)\u001b[49m\n",
      "File \u001b[0;32m~/.pyenv/versions/glob/lib/python3.9/site-packages/torch/nn/modules/module.py:1784\u001b[0m, in \u001b[0;36mModule._call_impl\u001b[0;34m(self, *args, **kwargs)\u001b[0m\n\u001b[1;32m   1779\u001b[0m \u001b[38;5;66;03m# If we don't have any hooks, we want to skip the rest of the logic in\u001b[39;00m\n\u001b[1;32m   1780\u001b[0m \u001b[38;5;66;03m# this function, and just call forward.\u001b[39;00m\n\u001b[1;32m   1781\u001b[0m \u001b[38;5;28;01mif\u001b[39;00m \u001b[38;5;129;01mnot\u001b[39;00m (\u001b[38;5;28mself\u001b[39m\u001b[38;5;241m.\u001b[39m_backward_hooks \u001b[38;5;129;01mor\u001b[39;00m \u001b[38;5;28mself\u001b[39m\u001b[38;5;241m.\u001b[39m_backward_pre_hooks \u001b[38;5;129;01mor\u001b[39;00m \u001b[38;5;28mself\u001b[39m\u001b[38;5;241m.\u001b[39m_forward_hooks \u001b[38;5;129;01mor\u001b[39;00m \u001b[38;5;28mself\u001b[39m\u001b[38;5;241m.\u001b[39m_forward_pre_hooks\n\u001b[1;32m   1782\u001b[0m         \u001b[38;5;129;01mor\u001b[39;00m _global_backward_pre_hooks \u001b[38;5;129;01mor\u001b[39;00m _global_backward_hooks\n\u001b[1;32m   1783\u001b[0m         \u001b[38;5;129;01mor\u001b[39;00m _global_forward_hooks \u001b[38;5;129;01mor\u001b[39;00m _global_forward_pre_hooks):\n\u001b[0;32m-> 1784\u001b[0m     \u001b[38;5;28;01mreturn\u001b[39;00m \u001b[43mforward_call\u001b[49m\u001b[43m(\u001b[49m\u001b[38;5;241;43m*\u001b[39;49m\u001b[43margs\u001b[49m\u001b[43m,\u001b[49m\u001b[43m \u001b[49m\u001b[38;5;241;43m*\u001b[39;49m\u001b[38;5;241;43m*\u001b[39;49m\u001b[43mkwargs\u001b[49m\u001b[43m)\u001b[49m\n\u001b[1;32m   1786\u001b[0m result \u001b[38;5;241m=\u001b[39m \u001b[38;5;28;01mNone\u001b[39;00m\n\u001b[1;32m   1787\u001b[0m called_always_called_hooks \u001b[38;5;241m=\u001b[39m \u001b[38;5;28mset\u001b[39m()\n",
      "File \u001b[0;32m~/.pyenv/versions/glob/lib/python3.9/site-packages/sentence_transformers/SentenceTransformer.py:1132\u001b[0m, in \u001b[0;36mSentenceTransformer.forward\u001b[0;34m(self, input, **kwargs)\u001b[0m\n\u001b[1;32m   1126\u001b[0m             module_kwarg_keys \u001b[38;5;241m=\u001b[39m \u001b[38;5;28mself\u001b[39m\u001b[38;5;241m.\u001b[39mmodule_kwargs\u001b[38;5;241m.\u001b[39mget(module_name, [])\n\u001b[1;32m   1127\u001b[0m         module_kwargs \u001b[38;5;241m=\u001b[39m {\n\u001b[1;32m   1128\u001b[0m             key: value\n\u001b[1;32m   1129\u001b[0m             \u001b[38;5;28;01mfor\u001b[39;00m key, value \u001b[38;5;129;01min\u001b[39;00m kwargs\u001b[38;5;241m.\u001b[39mitems()\n\u001b[1;32m   1130\u001b[0m             \u001b[38;5;28;01mif\u001b[39;00m key \u001b[38;5;129;01min\u001b[39;00m module_kwarg_keys \u001b[38;5;129;01mor\u001b[39;00m (\u001b[38;5;28mhasattr\u001b[39m(module, \u001b[38;5;124m\"\u001b[39m\u001b[38;5;124mforward_kwargs\u001b[39m\u001b[38;5;124m\"\u001b[39m) \u001b[38;5;129;01mand\u001b[39;00m key \u001b[38;5;129;01min\u001b[39;00m module\u001b[38;5;241m.\u001b[39mforward_kwargs)\n\u001b[1;32m   1131\u001b[0m         }\n\u001b[0;32m-> 1132\u001b[0m     \u001b[38;5;28minput\u001b[39m \u001b[38;5;241m=\u001b[39m \u001b[43mmodule\u001b[49m\u001b[43m(\u001b[49m\u001b[38;5;28;43minput\u001b[39;49m\u001b[43m,\u001b[49m\u001b[43m \u001b[49m\u001b[38;5;241;43m*\u001b[39;49m\u001b[38;5;241;43m*\u001b[39;49m\u001b[43mmodule_kwargs\u001b[49m\u001b[43m)\u001b[49m\n\u001b[1;32m   1133\u001b[0m \u001b[38;5;28;01mreturn\u001b[39;00m \u001b[38;5;28minput\u001b[39m\n",
      "File \u001b[0;32m~/.pyenv/versions/glob/lib/python3.9/site-packages/torch/nn/modules/module.py:1773\u001b[0m, in \u001b[0;36mModule._wrapped_call_impl\u001b[0;34m(self, *args, **kwargs)\u001b[0m\n\u001b[1;32m   1771\u001b[0m     \u001b[38;5;28;01mreturn\u001b[39;00m \u001b[38;5;28mself\u001b[39m\u001b[38;5;241m.\u001b[39m_compiled_call_impl(\u001b[38;5;241m*\u001b[39margs, \u001b[38;5;241m*\u001b[39m\u001b[38;5;241m*\u001b[39mkwargs)  \u001b[38;5;66;03m# type: ignore[misc]\u001b[39;00m\n\u001b[1;32m   1772\u001b[0m \u001b[38;5;28;01melse\u001b[39;00m:\n\u001b[0;32m-> 1773\u001b[0m     \u001b[38;5;28;01mreturn\u001b[39;00m \u001b[38;5;28;43mself\u001b[39;49m\u001b[38;5;241;43m.\u001b[39;49m\u001b[43m_call_impl\u001b[49m\u001b[43m(\u001b[49m\u001b[38;5;241;43m*\u001b[39;49m\u001b[43margs\u001b[49m\u001b[43m,\u001b[49m\u001b[43m \u001b[49m\u001b[38;5;241;43m*\u001b[39;49m\u001b[38;5;241;43m*\u001b[39;49m\u001b[43mkwargs\u001b[49m\u001b[43m)\u001b[49m\n",
      "File \u001b[0;32m~/.pyenv/versions/glob/lib/python3.9/site-packages/torch/nn/modules/module.py:1784\u001b[0m, in \u001b[0;36mModule._call_impl\u001b[0;34m(self, *args, **kwargs)\u001b[0m\n\u001b[1;32m   1779\u001b[0m \u001b[38;5;66;03m# If we don't have any hooks, we want to skip the rest of the logic in\u001b[39;00m\n\u001b[1;32m   1780\u001b[0m \u001b[38;5;66;03m# this function, and just call forward.\u001b[39;00m\n\u001b[1;32m   1781\u001b[0m \u001b[38;5;28;01mif\u001b[39;00m \u001b[38;5;129;01mnot\u001b[39;00m (\u001b[38;5;28mself\u001b[39m\u001b[38;5;241m.\u001b[39m_backward_hooks \u001b[38;5;129;01mor\u001b[39;00m \u001b[38;5;28mself\u001b[39m\u001b[38;5;241m.\u001b[39m_backward_pre_hooks \u001b[38;5;129;01mor\u001b[39;00m \u001b[38;5;28mself\u001b[39m\u001b[38;5;241m.\u001b[39m_forward_hooks \u001b[38;5;129;01mor\u001b[39;00m \u001b[38;5;28mself\u001b[39m\u001b[38;5;241m.\u001b[39m_forward_pre_hooks\n\u001b[1;32m   1782\u001b[0m         \u001b[38;5;129;01mor\u001b[39;00m _global_backward_pre_hooks \u001b[38;5;129;01mor\u001b[39;00m _global_backward_hooks\n\u001b[1;32m   1783\u001b[0m         \u001b[38;5;129;01mor\u001b[39;00m _global_forward_hooks \u001b[38;5;129;01mor\u001b[39;00m _global_forward_pre_hooks):\n\u001b[0;32m-> 1784\u001b[0m     \u001b[38;5;28;01mreturn\u001b[39;00m \u001b[43mforward_call\u001b[49m\u001b[43m(\u001b[49m\u001b[38;5;241;43m*\u001b[39;49m\u001b[43margs\u001b[49m\u001b[43m,\u001b[49m\u001b[43m \u001b[49m\u001b[38;5;241;43m*\u001b[39;49m\u001b[38;5;241;43m*\u001b[39;49m\u001b[43mkwargs\u001b[49m\u001b[43m)\u001b[49m\n\u001b[1;32m   1786\u001b[0m result \u001b[38;5;241m=\u001b[39m \u001b[38;5;28;01mNone\u001b[39;00m\n\u001b[1;32m   1787\u001b[0m called_always_called_hooks \u001b[38;5;241m=\u001b[39m \u001b[38;5;28mset\u001b[39m()\n",
      "File \u001b[0;32m~/.pyenv/versions/glob/lib/python3.9/site-packages/sentence_transformers/models/Transformer.py:234\u001b[0m, in \u001b[0;36mTransformer.forward\u001b[0;34m(self, features, **kwargs)\u001b[0m\n\u001b[1;32m    227\u001b[0m \u001b[38;5;250m\u001b[39m\u001b[38;5;124;03m\"\"\"Returns token_embeddings, cls_token\"\"\"\u001b[39;00m\n\u001b[1;32m    228\u001b[0m trans_features \u001b[38;5;241m=\u001b[39m {\n\u001b[1;32m    229\u001b[0m     key: value\n\u001b[1;32m    230\u001b[0m     \u001b[38;5;28;01mfor\u001b[39;00m key, value \u001b[38;5;129;01min\u001b[39;00m features\u001b[38;5;241m.\u001b[39mitems()\n\u001b[1;32m    231\u001b[0m     \u001b[38;5;28;01mif\u001b[39;00m key \u001b[38;5;129;01min\u001b[39;00m [\u001b[38;5;124m\"\u001b[39m\u001b[38;5;124minput_ids\u001b[39m\u001b[38;5;124m\"\u001b[39m, \u001b[38;5;124m\"\u001b[39m\u001b[38;5;124mattention_mask\u001b[39m\u001b[38;5;124m\"\u001b[39m, \u001b[38;5;124m\"\u001b[39m\u001b[38;5;124mtoken_type_ids\u001b[39m\u001b[38;5;124m\"\u001b[39m, \u001b[38;5;124m\"\u001b[39m\u001b[38;5;124minputs_embeds\u001b[39m\u001b[38;5;124m\"\u001b[39m]\n\u001b[1;32m    232\u001b[0m }\n\u001b[0;32m--> 234\u001b[0m outputs \u001b[38;5;241m=\u001b[39m \u001b[38;5;28;43mself\u001b[39;49m\u001b[38;5;241;43m.\u001b[39;49m\u001b[43mauto_model\u001b[49m\u001b[43m(\u001b[49m\u001b[38;5;241;43m*\u001b[39;49m\u001b[38;5;241;43m*\u001b[39;49m\u001b[43mtrans_features\u001b[49m\u001b[43m,\u001b[49m\u001b[43m \u001b[49m\u001b[38;5;241;43m*\u001b[39;49m\u001b[38;5;241;43m*\u001b[39;49m\u001b[43mkwargs\u001b[49m\u001b[43m,\u001b[49m\u001b[43m \u001b[49m\u001b[43mreturn_dict\u001b[49m\u001b[38;5;241;43m=\u001b[39;49m\u001b[38;5;28;43;01mTrue\u001b[39;49;00m\u001b[43m)\u001b[49m\n\u001b[1;32m    235\u001b[0m token_embeddings \u001b[38;5;241m=\u001b[39m outputs[\u001b[38;5;241m0\u001b[39m]\n\u001b[1;32m    236\u001b[0m features[\u001b[38;5;124m\"\u001b[39m\u001b[38;5;124mtoken_embeddings\u001b[39m\u001b[38;5;124m\"\u001b[39m] \u001b[38;5;241m=\u001b[39m token_embeddings\n",
      "File \u001b[0;32m~/.pyenv/versions/glob/lib/python3.9/site-packages/torch/nn/modules/module.py:1773\u001b[0m, in \u001b[0;36mModule._wrapped_call_impl\u001b[0;34m(self, *args, **kwargs)\u001b[0m\n\u001b[1;32m   1771\u001b[0m     \u001b[38;5;28;01mreturn\u001b[39;00m \u001b[38;5;28mself\u001b[39m\u001b[38;5;241m.\u001b[39m_compiled_call_impl(\u001b[38;5;241m*\u001b[39margs, \u001b[38;5;241m*\u001b[39m\u001b[38;5;241m*\u001b[39mkwargs)  \u001b[38;5;66;03m# type: ignore[misc]\u001b[39;00m\n\u001b[1;32m   1772\u001b[0m \u001b[38;5;28;01melse\u001b[39;00m:\n\u001b[0;32m-> 1773\u001b[0m     \u001b[38;5;28;01mreturn\u001b[39;00m \u001b[38;5;28;43mself\u001b[39;49m\u001b[38;5;241;43m.\u001b[39;49m\u001b[43m_call_impl\u001b[49m\u001b[43m(\u001b[49m\u001b[38;5;241;43m*\u001b[39;49m\u001b[43margs\u001b[49m\u001b[43m,\u001b[49m\u001b[43m \u001b[49m\u001b[38;5;241;43m*\u001b[39;49m\u001b[38;5;241;43m*\u001b[39;49m\u001b[43mkwargs\u001b[49m\u001b[43m)\u001b[49m\n",
      "File \u001b[0;32m~/.pyenv/versions/glob/lib/python3.9/site-packages/torch/nn/modules/module.py:1784\u001b[0m, in \u001b[0;36mModule._call_impl\u001b[0;34m(self, *args, **kwargs)\u001b[0m\n\u001b[1;32m   1779\u001b[0m \u001b[38;5;66;03m# If we don't have any hooks, we want to skip the rest of the logic in\u001b[39;00m\n\u001b[1;32m   1780\u001b[0m \u001b[38;5;66;03m# this function, and just call forward.\u001b[39;00m\n\u001b[1;32m   1781\u001b[0m \u001b[38;5;28;01mif\u001b[39;00m \u001b[38;5;129;01mnot\u001b[39;00m (\u001b[38;5;28mself\u001b[39m\u001b[38;5;241m.\u001b[39m_backward_hooks \u001b[38;5;129;01mor\u001b[39;00m \u001b[38;5;28mself\u001b[39m\u001b[38;5;241m.\u001b[39m_backward_pre_hooks \u001b[38;5;129;01mor\u001b[39;00m \u001b[38;5;28mself\u001b[39m\u001b[38;5;241m.\u001b[39m_forward_hooks \u001b[38;5;129;01mor\u001b[39;00m \u001b[38;5;28mself\u001b[39m\u001b[38;5;241m.\u001b[39m_forward_pre_hooks\n\u001b[1;32m   1782\u001b[0m         \u001b[38;5;129;01mor\u001b[39;00m _global_backward_pre_hooks \u001b[38;5;129;01mor\u001b[39;00m _global_backward_hooks\n\u001b[1;32m   1783\u001b[0m         \u001b[38;5;129;01mor\u001b[39;00m _global_forward_hooks \u001b[38;5;129;01mor\u001b[39;00m _global_forward_pre_hooks):\n\u001b[0;32m-> 1784\u001b[0m     \u001b[38;5;28;01mreturn\u001b[39;00m \u001b[43mforward_call\u001b[49m\u001b[43m(\u001b[49m\u001b[38;5;241;43m*\u001b[39;49m\u001b[43margs\u001b[49m\u001b[43m,\u001b[49m\u001b[43m \u001b[49m\u001b[38;5;241;43m*\u001b[39;49m\u001b[38;5;241;43m*\u001b[39;49m\u001b[43mkwargs\u001b[49m\u001b[43m)\u001b[49m\n\u001b[1;32m   1786\u001b[0m result \u001b[38;5;241m=\u001b[39m \u001b[38;5;28;01mNone\u001b[39;00m\n\u001b[1;32m   1787\u001b[0m called_always_called_hooks \u001b[38;5;241m=\u001b[39m \u001b[38;5;28mset\u001b[39m()\n",
      "File \u001b[0;32m~/.pyenv/versions/glob/lib/python3.9/site-packages/transformers/models/mpnet/modeling_mpnet.py:486\u001b[0m, in \u001b[0;36mMPNetModel.forward\u001b[0;34m(self, input_ids, attention_mask, position_ids, head_mask, inputs_embeds, output_attentions, output_hidden_states, return_dict, **kwargs)\u001b[0m\n\u001b[1;32m    484\u001b[0m head_mask \u001b[38;5;241m=\u001b[39m \u001b[38;5;28mself\u001b[39m\u001b[38;5;241m.\u001b[39mget_head_mask(head_mask, \u001b[38;5;28mself\u001b[39m\u001b[38;5;241m.\u001b[39mconfig\u001b[38;5;241m.\u001b[39mnum_hidden_layers)\n\u001b[1;32m    485\u001b[0m embedding_output \u001b[38;5;241m=\u001b[39m \u001b[38;5;28mself\u001b[39m\u001b[38;5;241m.\u001b[39membeddings(input_ids\u001b[38;5;241m=\u001b[39minput_ids, position_ids\u001b[38;5;241m=\u001b[39mposition_ids, inputs_embeds\u001b[38;5;241m=\u001b[39minputs_embeds)\n\u001b[0;32m--> 486\u001b[0m encoder_outputs \u001b[38;5;241m=\u001b[39m \u001b[38;5;28;43mself\u001b[39;49m\u001b[38;5;241;43m.\u001b[39;49m\u001b[43mencoder\u001b[49m\u001b[43m(\u001b[49m\n\u001b[1;32m    487\u001b[0m \u001b[43m    \u001b[49m\u001b[43membedding_output\u001b[49m\u001b[43m,\u001b[49m\n\u001b[1;32m    488\u001b[0m \u001b[43m    \u001b[49m\u001b[43mattention_mask\u001b[49m\u001b[38;5;241;43m=\u001b[39;49m\u001b[43mextended_attention_mask\u001b[49m\u001b[43m,\u001b[49m\n\u001b[1;32m    489\u001b[0m \u001b[43m    \u001b[49m\u001b[43mhead_mask\u001b[49m\u001b[38;5;241;43m=\u001b[39;49m\u001b[43mhead_mask\u001b[49m\u001b[43m,\u001b[49m\n\u001b[1;32m    490\u001b[0m \u001b[43m    \u001b[49m\u001b[43moutput_attentions\u001b[49m\u001b[38;5;241;43m=\u001b[39;49m\u001b[43moutput_attentions\u001b[49m\u001b[43m,\u001b[49m\n\u001b[1;32m    491\u001b[0m \u001b[43m    \u001b[49m\u001b[43moutput_hidden_states\u001b[49m\u001b[38;5;241;43m=\u001b[39;49m\u001b[43moutput_hidden_states\u001b[49m\u001b[43m,\u001b[49m\n\u001b[1;32m    492\u001b[0m \u001b[43m    \u001b[49m\u001b[43mreturn_dict\u001b[49m\u001b[38;5;241;43m=\u001b[39;49m\u001b[43mreturn_dict\u001b[49m\u001b[43m,\u001b[49m\n\u001b[1;32m    493\u001b[0m \u001b[43m\u001b[49m\u001b[43m)\u001b[49m\n\u001b[1;32m    494\u001b[0m sequence_output \u001b[38;5;241m=\u001b[39m encoder_outputs[\u001b[38;5;241m0\u001b[39m]\n\u001b[1;32m    495\u001b[0m pooled_output \u001b[38;5;241m=\u001b[39m \u001b[38;5;28mself\u001b[39m\u001b[38;5;241m.\u001b[39mpooler(sequence_output) \u001b[38;5;28;01mif\u001b[39;00m \u001b[38;5;28mself\u001b[39m\u001b[38;5;241m.\u001b[39mpooler \u001b[38;5;129;01mis\u001b[39;00m \u001b[38;5;129;01mnot\u001b[39;00m \u001b[38;5;28;01mNone\u001b[39;00m \u001b[38;5;28;01melse\u001b[39;00m \u001b[38;5;28;01mNone\u001b[39;00m\n",
      "File \u001b[0;32m~/.pyenv/versions/glob/lib/python3.9/site-packages/torch/nn/modules/module.py:1773\u001b[0m, in \u001b[0;36mModule._wrapped_call_impl\u001b[0;34m(self, *args, **kwargs)\u001b[0m\n\u001b[1;32m   1771\u001b[0m     \u001b[38;5;28;01mreturn\u001b[39;00m \u001b[38;5;28mself\u001b[39m\u001b[38;5;241m.\u001b[39m_compiled_call_impl(\u001b[38;5;241m*\u001b[39margs, \u001b[38;5;241m*\u001b[39m\u001b[38;5;241m*\u001b[39mkwargs)  \u001b[38;5;66;03m# type: ignore[misc]\u001b[39;00m\n\u001b[1;32m   1772\u001b[0m \u001b[38;5;28;01melse\u001b[39;00m:\n\u001b[0;32m-> 1773\u001b[0m     \u001b[38;5;28;01mreturn\u001b[39;00m \u001b[38;5;28;43mself\u001b[39;49m\u001b[38;5;241;43m.\u001b[39;49m\u001b[43m_call_impl\u001b[49m\u001b[43m(\u001b[49m\u001b[38;5;241;43m*\u001b[39;49m\u001b[43margs\u001b[49m\u001b[43m,\u001b[49m\u001b[43m \u001b[49m\u001b[38;5;241;43m*\u001b[39;49m\u001b[38;5;241;43m*\u001b[39;49m\u001b[43mkwargs\u001b[49m\u001b[43m)\u001b[49m\n",
      "File \u001b[0;32m~/.pyenv/versions/glob/lib/python3.9/site-packages/torch/nn/modules/module.py:1784\u001b[0m, in \u001b[0;36mModule._call_impl\u001b[0;34m(self, *args, **kwargs)\u001b[0m\n\u001b[1;32m   1779\u001b[0m \u001b[38;5;66;03m# If we don't have any hooks, we want to skip the rest of the logic in\u001b[39;00m\n\u001b[1;32m   1780\u001b[0m \u001b[38;5;66;03m# this function, and just call forward.\u001b[39;00m\n\u001b[1;32m   1781\u001b[0m \u001b[38;5;28;01mif\u001b[39;00m \u001b[38;5;129;01mnot\u001b[39;00m (\u001b[38;5;28mself\u001b[39m\u001b[38;5;241m.\u001b[39m_backward_hooks \u001b[38;5;129;01mor\u001b[39;00m \u001b[38;5;28mself\u001b[39m\u001b[38;5;241m.\u001b[39m_backward_pre_hooks \u001b[38;5;129;01mor\u001b[39;00m \u001b[38;5;28mself\u001b[39m\u001b[38;5;241m.\u001b[39m_forward_hooks \u001b[38;5;129;01mor\u001b[39;00m \u001b[38;5;28mself\u001b[39m\u001b[38;5;241m.\u001b[39m_forward_pre_hooks\n\u001b[1;32m   1782\u001b[0m         \u001b[38;5;129;01mor\u001b[39;00m _global_backward_pre_hooks \u001b[38;5;129;01mor\u001b[39;00m _global_backward_hooks\n\u001b[1;32m   1783\u001b[0m         \u001b[38;5;129;01mor\u001b[39;00m _global_forward_hooks \u001b[38;5;129;01mor\u001b[39;00m _global_forward_pre_hooks):\n\u001b[0;32m-> 1784\u001b[0m     \u001b[38;5;28;01mreturn\u001b[39;00m \u001b[43mforward_call\u001b[49m\u001b[43m(\u001b[49m\u001b[38;5;241;43m*\u001b[39;49m\u001b[43margs\u001b[49m\u001b[43m,\u001b[49m\u001b[43m \u001b[49m\u001b[38;5;241;43m*\u001b[39;49m\u001b[38;5;241;43m*\u001b[39;49m\u001b[43mkwargs\u001b[49m\u001b[43m)\u001b[49m\n\u001b[1;32m   1786\u001b[0m result \u001b[38;5;241m=\u001b[39m \u001b[38;5;28;01mNone\u001b[39;00m\n\u001b[1;32m   1787\u001b[0m called_always_called_hooks \u001b[38;5;241m=\u001b[39m \u001b[38;5;28mset\u001b[39m()\n",
      "File \u001b[0;32m~/.pyenv/versions/glob/lib/python3.9/site-packages/transformers/models/mpnet/modeling_mpnet.py:331\u001b[0m, in \u001b[0;36mMPNetEncoder.forward\u001b[0;34m(self, hidden_states, attention_mask, head_mask, output_attentions, output_hidden_states, return_dict, **kwargs)\u001b[0m\n\u001b[1;32m    321\u001b[0m \u001b[38;5;28;01mdef\u001b[39;00m\u001b[38;5;250m \u001b[39m\u001b[38;5;21mforward\u001b[39m(\n\u001b[1;32m    322\u001b[0m     \u001b[38;5;28mself\u001b[39m,\n\u001b[1;32m    323\u001b[0m     hidden_states: torch\u001b[38;5;241m.\u001b[39mTensor,\n\u001b[0;32m   (...)\u001b[0m\n\u001b[1;32m    329\u001b[0m     \u001b[38;5;241m*\u001b[39m\u001b[38;5;241m*\u001b[39mkwargs,\n\u001b[1;32m    330\u001b[0m ):\n\u001b[0;32m--> 331\u001b[0m     position_bias \u001b[38;5;241m=\u001b[39m \u001b[38;5;28;43mself\u001b[39;49m\u001b[38;5;241;43m.\u001b[39;49m\u001b[43mcompute_position_bias\u001b[49m\u001b[43m(\u001b[49m\u001b[43mhidden_states\u001b[49m\u001b[43m)\u001b[49m\n\u001b[1;32m    332\u001b[0m     all_hidden_states \u001b[38;5;241m=\u001b[39m () \u001b[38;5;28;01mif\u001b[39;00m output_hidden_states \u001b[38;5;28;01melse\u001b[39;00m \u001b[38;5;28;01mNone\u001b[39;00m\n\u001b[1;32m    333\u001b[0m     all_attentions \u001b[38;5;241m=\u001b[39m () \u001b[38;5;28;01mif\u001b[39;00m output_attentions \u001b[38;5;28;01melse\u001b[39;00m \u001b[38;5;28;01mNone\u001b[39;00m\n",
      "File \u001b[0;32m~/.pyenv/versions/glob/lib/python3.9/site-packages/transformers/models/mpnet/modeling_mpnet.py:375\u001b[0m, in \u001b[0;36mMPNetEncoder.compute_position_bias\u001b[0;34m(self, x, position_ids, num_buckets)\u001b[0m\n\u001b[1;32m    372\u001b[0m relative_position \u001b[38;5;241m=\u001b[39m memory_position \u001b[38;5;241m-\u001b[39m context_position\n\u001b[1;32m    374\u001b[0m rp_bucket \u001b[38;5;241m=\u001b[39m \u001b[38;5;28mself\u001b[39m\u001b[38;5;241m.\u001b[39mrelative_position_bucket(relative_position, num_buckets\u001b[38;5;241m=\u001b[39mnum_buckets)\n\u001b[0;32m--> 375\u001b[0m rp_bucket \u001b[38;5;241m=\u001b[39m \u001b[43mrp_bucket\u001b[49m\u001b[38;5;241;43m.\u001b[39;49m\u001b[43mto\u001b[49m\u001b[43m(\u001b[49m\u001b[43mx\u001b[49m\u001b[38;5;241;43m.\u001b[39;49m\u001b[43mdevice\u001b[49m\u001b[43m)\u001b[49m\n\u001b[1;32m    376\u001b[0m values \u001b[38;5;241m=\u001b[39m \u001b[38;5;28mself\u001b[39m\u001b[38;5;241m.\u001b[39mrelative_attention_bias(rp_bucket)\n\u001b[1;32m    377\u001b[0m values \u001b[38;5;241m=\u001b[39m values\u001b[38;5;241m.\u001b[39mpermute([\u001b[38;5;241m2\u001b[39m, \u001b[38;5;241m0\u001b[39m, \u001b[38;5;241m1\u001b[39m])\u001b[38;5;241m.\u001b[39munsqueeze(\u001b[38;5;241m0\u001b[39m)\n",
      "\u001b[0;31mKeyboardInterrupt\u001b[0m: "
     ]
    }
   ],
   "source": [
    "data_h3d = th.intramotion_similarity_nb(h3d_df)"
   ]
  },
  {
   "cell_type": "code",
   "execution_count": null,
   "id": "6844bdca",
   "metadata": {},
   "outputs": [
    {
     "name": "stdout",
     "output_type": "stream",
     "text": [
      "\n",
      "=== Intra-motion Similarity (MiniLM) ===\n",
      "Using device: mps\n",
      "{'backend': 'minilm', 'mean_of_means': 0.6855181297201225, 'median_of_means': 0.6957469880580902, 'quantiles': {0.1: 0.49551954269409176, 0.25: 0.596465215086937, 0.5: 0.6957469880580902, 0.75: 0.7820118516683578, 0.9: 0.8623410046100617}}\n",
      "Top 10 most consistent motions (MiniLM):\n",
      "     motion_id  mean_intra_caption_sim  num_captions\n",
      "3446    M00444                1.000000             2\n",
      "437      00444                1.000000             2\n",
      "4143    M01142                1.000000             2\n",
      "1134     01142                1.000000             2\n",
      "1336     01344                0.997793             2\n",
      "1341     01349                0.997793             2\n",
      "4350    M01349                0.997793             2\n",
      "4345    M01344                0.997793             2\n",
      "218      00223                0.996539             2\n",
      "3227    M00223                0.996539             2\n",
      "Top 10 least consistent motions (MiniLM):\n",
      "     motion_id  mean_intra_caption_sim  num_captions\n",
      "4418    M01417                0.176641             2\n",
      "1409     01417                0.178581             2\n",
      "450      00457                0.190295             2\n",
      "1483     01491                0.192627             2\n",
      "4492    M01491                0.193930             2\n",
      "4472    M01471                0.206770             2\n",
      "1463     01471                0.209274             2\n",
      "3738    M00736                0.217768             3\n",
      "729      00736                0.233567             3\n",
      "3049    M00042                0.249847             4\n",
      "\n",
      "=== Intra-motion Similarity (mpnet) ===\n",
      "Using device: mps\n"
     ]
    },
    {
     "name": "stderr",
     "output_type": "stream",
     "text": [
      "/Users/hannesmoehring/.pyenv/versions/glob/lib/python3.9/site-packages/torch/utils/data/dataloader.py:684: UserWarning: 'pin_memory' argument is set as true but not supported on MPS now, then device pinned memory won't be used.\n",
      "  warnings.warn(warn_msg)\n"
     ]
    },
    {
     "data": {
      "text/html": [
       "\n",
       "    <div>\n",
       "      \n",
       "      <progress value='458' max='458' style='width:300px; height:20px; vertical-align: middle;'></progress>\n",
       "      [458/458 02:47, Epoch 2/2]\n",
       "    </div>\n",
       "    <table border=\"1\" class=\"dataframe\">\n",
       "  <thead>\n",
       " <tr style=\"text-align: left;\">\n",
       "      <th>Step</th>\n",
       "      <th>Training Loss</th>\n",
       "    </tr>\n",
       "  </thead>\n",
       "  <tbody>\n",
       "  </tbody>\n",
       "</table><p>"
      ],
      "text/plain": [
       "<IPython.core.display.HTML object>"
      ]
     },
     "metadata": {},
     "output_type": "display_data"
    },
    {
     "name": "stdout",
     "output_type": "stream",
     "text": [
      "{'backend': 'mpnet', 'mean_of_means': 0.9041057143217663, 'median_of_means': 0.9185163378715515, 'quantiles': {0.1: 0.8289462029933929, 0.25: 0.8785765916109085, 0.5: 0.9185163378715515, 0.75: 0.9477601945400238, 0.9: 0.9663311064243316}}\n",
      "Top 10 most consistent motions (mpnet):\n",
      "     motion_id  mean_intra_caption_sim  num_captions\n",
      "4143    M01142                1.000000             2\n",
      "1134     01142                1.000000             2\n",
      "437      00444                1.000000             2\n",
      "3446    M00444                1.000000             2\n",
      "4378    M01377                0.998631             3\n",
      "1369     01377                0.998305             3\n",
      "1781     01810                0.997057             2\n",
      "4790    M01810                0.996585             2\n",
      "1341     01349                0.996071             2\n",
      "1336     01344                0.996071             2\n",
      "Top 10 least consistent motions (mpnet):\n",
      "     motion_id  mean_intra_caption_sim  num_captions\n",
      "350      00356                0.323242             2\n",
      "3359    M00356                0.346074             2\n",
      "1914     01943                0.433264             3\n",
      "4923    M01943                0.433264             3\n",
      "4885    M01905                0.551291             2\n",
      "1876     01905                0.551291             2\n",
      "314      00320                0.578388             4\n",
      "1849     01878                0.580953             2\n",
      "1014     01022                0.594575             2\n",
      "3323    M00320                0.595132             4\n",
      "\n",
      "=== Intra-motion Similarity (DistilBERT-uncased) ===\n",
      "Using device: mps\n",
      "{'backend': 'distilbert-meanpool', 'mean_of_means': 0.853011277345559, 'median_of_means': 0.8546164929866791, 'quantiles': {0.1: 0.7899687767028809, 0.25: 0.8219884037971497, 0.5: 0.8546164929866791, 0.75: 0.8874177932739258, 0.9: 0.9177315711975098}}\n",
      "Top 10 most consistent motions (DistilBERT):\n",
      "     motion_id  mean_intra_caption_sim  num_captions\n",
      "4143    M01142                1.000000             2\n",
      "3446    M00444                1.000000             2\n",
      "1134     01142                1.000000             2\n",
      "437      00444                1.000000             2\n",
      "389      00396                0.988545             2\n",
      "1369     01377                0.986839             3\n",
      "4378    M01377                0.986054             3\n",
      "3353    M00350                0.982348             3\n",
      "1824     01853                0.977935             2\n",
      "4833    M01853                0.975996             2\n",
      "Top 10 least consistent motions (DistilBERT):\n",
      "     motion_id  mean_intra_caption_sim  num_captions\n",
      "653      00660                0.639814             3\n",
      "3662    M00660                0.639814             3\n",
      "3790    M00788                0.650089             2\n",
      "781      00788                0.653928             2\n",
      "845      00852                0.668277             2\n",
      "3854    M00852                0.668277             2\n",
      "1409     01417                0.669160             2\n",
      "4418    M01417                0.669509             2\n",
      "3049    M00042                0.678032             4\n",
      "1936     01965                0.685886             2\n",
      "\n",
      "=== Backend comparison ===\n",
      "               backend  mean_of_means  median_of_means  \\\n",
      "0               minilm       0.685518         0.695747   \n",
      "1  distilbert-meanpool       0.853011         0.854616   \n",
      "\n",
      "                                           quantiles  \n",
      "0  {0.1: 0.49551954269409176, 0.25: 0.59646521508...  \n",
      "1  {0.1: 0.7899687767028809, 0.25: 0.821988403797...  \n"
     ]
    }
   ],
   "source": [
    "data_kit = th.intramotion_similarity_nb(kit_df)\n",
    "\n"
   ]
  },
  {
   "cell_type": "code",
   "execution_count": null,
   "id": "c9ef7178",
   "metadata": {},
   "outputs": [
    {
     "name": "stdout",
     "output_type": "stream",
     "text": [
      "    motion_id  mean_intra_caption_sim  num_captions\n",
      "350     00356                0.323242             2\n",
      "3028\n",
      "\n",
      "\n",
      "12\n",
      "55\n",
      "191\n",
      "447\n"
     ]
    }
   ],
   "source": [
    "dist_df = data_kit[\"mpnet\"][0]\n",
    "\n",
    "bad_ids_0 = set(dist_df.loc[dist_df[\"mean_intra_caption_sim\"] < 10, \"motion_id\"].astype(str))\n",
    "bad_ids_60 = set(dist_df.loc[dist_df[\"mean_intra_caption_sim\"] < 0.60, \"motion_id\"].astype(str))\n",
    "bad_ids_70 = set(dist_df.loc[dist_df[\"mean_intra_caption_sim\"] < 0.70, \"motion_id\"].astype(str))\n",
    "bad_ids_75 = set(dist_df.loc[dist_df[\"mean_intra_caption_sim\"] < 0.75, \"motion_id\"].astype(str))\n",
    "bad_ids_80 = set(dist_df.loc[dist_df[\"mean_intra_caption_sim\"] < 0.80, \"motion_id\"].astype(str))\n",
    "bad_ids_90 = set(dist_df.loc[dist_df[\"mean_intra_caption_sim\"] < 0.85, \"motion_id\"].astype(str))\n",
    "\n",
    "print(dist_df[dist_df[\"motion_id\"] == \"00356\"])\n",
    "#len(bad_ids_75)\n",
    "#len(bad_ids_80)\n",
    "print(len(bad_ids_0))\n",
    "print(\"\\n\")\n",
    "print(len(bad_ids_60))\n",
    "print(len(bad_ids_70))\n",
    "print(len(bad_ids_80))\n",
    "print(len(bad_ids_90))"
   ]
  },
  {
   "cell_type": "code",
   "execution_count": 10,
   "id": "f4192fba",
   "metadata": {},
   "outputs": [
    {
     "ename": "FileNotFoundError",
     "evalue": "[Errno 2] No such file or directory: '../datasets/humanml3d_70/all.txt'",
     "output_type": "error",
     "traceback": [
      "\u001b[0;31m---------------------------------------------------------------------------\u001b[0m",
      "\u001b[0;31mFileNotFoundError\u001b[0m                         Traceback (most recent call last)",
      "Cell \u001b[0;32mIn[10], line 3\u001b[0m\n\u001b[1;32m      1\u001b[0m exit(\u001b[38;5;241m1\u001b[39m)\n\u001b[1;32m      2\u001b[0m \u001b[38;5;28;01mimport\u001b[39;00m\u001b[38;5;250m \u001b[39m\u001b[38;5;21;01mutil\u001b[39;00m\n\u001b[0;32m----> 3\u001b[0m \u001b[43mutil\u001b[49m\u001b[38;5;241;43m.\u001b[39;49m\u001b[43mremove_bad_ids\u001b[49m\u001b[43m(\u001b[49m\u001b[38;5;124;43m\"\u001b[39;49m\u001b[38;5;124;43m../datasets/humanml3d_70\u001b[39;49m\u001b[38;5;124;43m\"\u001b[39;49m\u001b[43m,\u001b[49m\u001b[43m \u001b[49m\u001b[43mbad_ids_70\u001b[49m\u001b[43m)\u001b[49m\n\u001b[1;32m      4\u001b[0m util\u001b[38;5;241m.\u001b[39mremove_bad_ids(\u001b[38;5;124m\"\u001b[39m\u001b[38;5;124m../datasets/humanml3d_75\u001b[39m\u001b[38;5;124m\"\u001b[39m, bad_ids_75)\n\u001b[1;32m      5\u001b[0m util\u001b[38;5;241m.\u001b[39mremove_bad_ids(\u001b[38;5;124m\"\u001b[39m\u001b[38;5;124m../datasets/humanml3d_80\u001b[39m\u001b[38;5;124m\"\u001b[39m, bad_ids_80)\n",
      "File \u001b[0;32m~/LocalDocs/dlhm_local/data_analysis/textual/util.py:8\u001b[0m, in \u001b[0;36mremove_bad_ids\u001b[0;34m(data_dir, bad_ids)\u001b[0m\n\u001b[1;32m      5\u001b[0m files \u001b[38;5;241m=\u001b[39m [\u001b[38;5;124m\"\u001b[39m\u001b[38;5;124mall.txt\u001b[39m\u001b[38;5;124m\"\u001b[39m, \u001b[38;5;124m\"\u001b[39m\u001b[38;5;124mtrain.txt\u001b[39m\u001b[38;5;124m\"\u001b[39m, \u001b[38;5;124m\"\u001b[39m\u001b[38;5;124mval.txt\u001b[39m\u001b[38;5;124m\"\u001b[39m, \u001b[38;5;124m\"\u001b[39m\u001b[38;5;124mtest.txt\u001b[39m\u001b[38;5;124m\"\u001b[39m, \u001b[38;5;124m\"\u001b[39m\u001b[38;5;124mtrain_val.txt\u001b[39m\u001b[38;5;124m\"\u001b[39m]\n\u001b[1;32m      7\u001b[0m \u001b[38;5;28;01mfor\u001b[39;00m fname \u001b[38;5;129;01min\u001b[39;00m files:\n\u001b[0;32m----> 8\u001b[0m     \u001b[38;5;28;01mwith\u001b[39;00m \u001b[38;5;28;43mopen\u001b[39;49m\u001b[43m(\u001b[49m\u001b[43mos\u001b[49m\u001b[38;5;241;43m.\u001b[39;49m\u001b[43mpath\u001b[49m\u001b[38;5;241;43m.\u001b[39;49m\u001b[43mjoin\u001b[49m\u001b[43m(\u001b[49m\u001b[43mdata_dir\u001b[49m\u001b[43m,\u001b[49m\u001b[43m \u001b[49m\u001b[43mfname\u001b[49m\u001b[43m)\u001b[49m\u001b[43m,\u001b[49m\u001b[43m \u001b[49m\u001b[38;5;124;43m\"\u001b[39;49m\u001b[38;5;124;43mr\u001b[39;49m\u001b[38;5;124;43m\"\u001b[39;49m\u001b[43m)\u001b[49m \u001b[38;5;28;01mas\u001b[39;00m f:\n\u001b[1;32m      9\u001b[0m         lines \u001b[38;5;241m=\u001b[39m f\u001b[38;5;241m.\u001b[39mreadlines()\n\u001b[1;32m     10\u001b[0m     \u001b[38;5;28;01mwith\u001b[39;00m \u001b[38;5;28mopen\u001b[39m(os\u001b[38;5;241m.\u001b[39mpath\u001b[38;5;241m.\u001b[39mjoin(data_dir, fname), \u001b[38;5;124m\"\u001b[39m\u001b[38;5;124mw\u001b[39m\u001b[38;5;124m\"\u001b[39m) \u001b[38;5;28;01mas\u001b[39;00m f:\n",
      "\u001b[0;31mFileNotFoundError\u001b[0m: [Errno 2] No such file or directory: '../datasets/humanml3d_70/all.txt'"
     ]
    }
   ],
   "source": [
    "exit(1)\n",
    "import util\n",
    "util.remove_bad_ids(\"../datasets/humanml3d_70\", bad_ids_70)\n",
    "util.remove_bad_ids(\"../datasets/humanml3d_75\", bad_ids_75)\n",
    "util.remove_bad_ids(\"../datasets/humanml3d_80\", bad_ids_80)\n",
    "util.remove_bad_ids(\"../datasets/humanml3d_90\", bad_ids_90)"
   ]
  },
  {
   "cell_type": "code",
   "execution_count": null,
   "id": "9f6aa276",
   "metadata": {},
   "outputs": [],
   "source": []
  }
 ],
 "metadata": {
  "kernelspec": {
   "display_name": "glob",
   "language": "python",
   "name": "python3"
  },
  "language_info": {
   "codemirror_mode": {
    "name": "ipython",
    "version": 3
   },
   "file_extension": ".py",
   "mimetype": "text/x-python",
   "name": "python",
   "nbconvert_exporter": "python",
   "pygments_lexer": "ipython3",
   "version": "3.9.22"
  }
 },
 "nbformat": 4,
 "nbformat_minor": 5
}
