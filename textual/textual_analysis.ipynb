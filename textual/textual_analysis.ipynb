{
 "cells": [
  {
   "cell_type": "code",
   "execution_count": null,
   "id": "0a628d5e",
   "metadata": {},
   "outputs": [],
   "source": [
    "import textual_help as th"
   ]
  },
  {
   "cell_type": "markdown",
   "id": "967d4b13",
   "metadata": {},
   "source": [
    "### Sanity Check for dependencies"
   ]
  },
  {
   "cell_type": "code",
   "execution_count": null,
   "id": "0ad613c5",
   "metadata": {},
   "outputs": [],
   "source": [
    "import torch, accelerate, transformers, sentence_transformers\n",
    "print(torch.__version__, accelerate.__version__, transformers.__version__, sentence_transformers.__version__)"
   ]
  },
  {
   "cell_type": "markdown",
   "id": "fafebe71",
   "metadata": {},
   "source": [
    "## Import of datasets, e.g.: KIT-ML, HumanML3D"
   ]
  },
  {
   "cell_type": "code",
   "execution_count": null,
   "id": "76d8735a",
   "metadata": {},
   "outputs": [],
   "source": [
    "h3d_df = th.read_data_texts(\"../datasets/humanml3d/texts\")\n",
    "kit_df = th.read_data_texts(\"../datasets/KIT-ML/texts\")"
   ]
  },
  {
   "cell_type": "markdown",
   "id": "d0bbf69e",
   "metadata": {},
   "source": []
  },
  {
   "cell_type": "code",
   "execution_count": null,
   "id": "d83b209c",
   "metadata": {},
   "outputs": [],
   "source": [
    "h3d_df"
   ]
  },
  {
   "cell_type": "markdown",
   "id": "80565d73",
   "metadata": {},
   "source": [
    "## Checking if positional arguments are the same amount as the words in description"
   ]
  },
  {
   "cell_type": "code",
   "execution_count": null,
   "id": "822deaa1",
   "metadata": {},
   "outputs": [],
   "source": [
    "mask = h3d_df[\"description\"].str.strip().str.split().str.len() != \\\n",
    "       h3d_df[\"pos_tags\"].str.strip().str.split().str.len()\n",
    "\n",
    "mismatch_df = h3d_df[mask]\n",
    "mismatch_df"
   ]
  },
  {
   "cell_type": "markdown",
   "id": "abba0f17",
   "metadata": {},
   "source": [
    "## Analysis of Datasets"
   ]
  },
  {
   "cell_type": "code",
   "execution_count": null,
   "id": "350043ca",
   "metadata": {},
   "outputs": [],
   "source": [
    "th.analysis_routine(h3d_df)\n",
    "th.analysis_routine(kit_df)"
   ]
  },
  {
   "cell_type": "markdown",
   "id": "faec429b",
   "metadata": {},
   "source": [
    "### Specific use of IMS (already included in full routine)"
   ]
  },
  {
   "cell_type": "code",
   "execution_count": null,
   "id": "fd6054d8",
   "metadata": {},
   "outputs": [],
   "source": [
    "data_h3d = th.intramotion_similarity_nb(h3d_df)"
   ]
  },
  {
   "cell_type": "code",
   "execution_count": null,
   "id": "6844bdca",
   "metadata": {},
   "outputs": [],
   "source": [
    "data_kit = th.intramotion_similarity_nb(kit_df)\n",
    "\n"
   ]
  },
  {
   "cell_type": "markdown",
   "id": "55dced97",
   "metadata": {},
   "source": [
    "### Setting thresholds for similarity"
   ]
  },
  {
   "cell_type": "code",
   "execution_count": null,
   "id": "c9ef7178",
   "metadata": {},
   "outputs": [],
   "source": [
    "dist_df = data_h3d[\"mpnet\"][0]\n",
    "dist_df.to_csv(\"h3d_intramotion_similarity_mpnet.csv\", index=False)\n",
    "\n",
    "bad_ids_0 = set(dist_df.loc[dist_df[\"mean_intra_caption_sim\"] < 10, \"motion_id\"].astype(str))\n",
    "bad_ids_60 = set(dist_df.loc[dist_df[\"mean_intra_caption_sim\"] < 0.60, \"motion_id\"].astype(str))\n",
    "bad_ids_70 = set(dist_df.loc[dist_df[\"mean_intra_caption_sim\"] < 0.70, \"motion_id\"].astype(str))\n",
    "bad_ids_75 = set(dist_df.loc[dist_df[\"mean_intra_caption_sim\"] < 0.75, \"motion_id\"].astype(str))\n",
    "bad_ids_80 = set(dist_df.loc[dist_df[\"mean_intra_caption_sim\"] < 0.80, \"motion_id\"].astype(str))\n",
    "bad_ids_90 = set(dist_df.loc[dist_df[\"mean_intra_caption_sim\"] < 0.85, \"motion_id\"].astype(str))\n",
    "\n",
    "print(dist_df[dist_df[\"motion_id\"] == \"00356\"])\n",
    "#len(bad_ids_75)\n",
    "#len(bad_ids_80)\n",
    "print(len(bad_ids_0))\n",
    "print(\"\\n\")\n",
    "print(len(bad_ids_60))\n",
    "print(len(bad_ids_70))\n",
    "print(len(bad_ids_80))\n",
    "print(len(bad_ids_90))"
   ]
  },
  {
   "cell_type": "markdown",
   "id": "75fbc962",
   "metadata": {},
   "source": [
    "### Removing \"bad ids\" that are sub-threshold"
   ]
  },
  {
   "cell_type": "code",
   "execution_count": null,
   "id": "f4192fba",
   "metadata": {},
   "outputs": [],
   "source": [
    "exit(1)\n",
    "import util\n",
    "#util.remove_bad_ids(\"../datasets/humanml3d_70\", bad_ids_70)\n",
    "#util.remove_bad_ids(\"../datasets/humanml3d_75\", bad_ids_75)\n",
    "util.remove_bad_ids(\"../datasets/humanml3d_60\", bad_ids_60)\n",
    "util.remove_bad_ids(\"../datasets/humanml3d_80\", bad_ids_80)"
   ]
  },
  {
   "cell_type": "code",
   "execution_count": null,
   "id": "9f6aa276",
   "metadata": {},
   "outputs": [],
   "source": [
    "import os\n",
    "from pathlib import Path\n",
    "\n",
    "bad_ids = bad_ids_60\n",
    "folder = Path(\"../datasets/humanml3d_60/\")\n",
    "\n",
    "for bad_id in bad_ids:\n",
    "    file_path = folder / f\"texts/{bad_id}.txt\"\n",
    "    file_path_ani = folder / f\"animations/{bad_id}.mp4\"\n",
    "    try:\n",
    "        file_path.unlink()  # deletes the file\n",
    "        print(f\"Deleted {file_path}\")\n",
    "    except FileNotFoundError:\n",
    "        print(f\"File {file_path} not found, skipping.\")\n",
    "\n",
    "    try:\n",
    "        file_path_ani.unlink()  # deletes the file\n",
    "        print(f\"Deleted {file_path_ani}\")\n",
    "    except FileNotFoundError:\n",
    "        print(f\"File {file_path_ani} not found, skipping.\")"
   ]
  }
 ],
 "metadata": {
  "kernelspec": {
   "display_name": "glob",
   "language": "python",
   "name": "python3"
  },
  "language_info": {
   "codemirror_mode": {
    "name": "ipython",
    "version": 3
   },
   "file_extension": ".py",
   "mimetype": "text/x-python",
   "name": "python",
   "nbconvert_exporter": "python",
   "pygments_lexer": "ipython3",
   "version": "3.9.22"
  }
 },
 "nbformat": 4,
 "nbformat_minor": 5
}
