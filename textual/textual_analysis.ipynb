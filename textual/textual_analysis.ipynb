{
 "cells": [
  {
   "cell_type": "code",
   "execution_count": 1,
   "id": "0a628d5e",
   "metadata": {},
   "outputs": [
    {
     "name": "stderr",
     "output_type": "stream",
     "text": [
      "/Users/hannesmoehring/.pyenv/versions/glob/lib/python3.9/site-packages/tqdm/auto.py:21: TqdmWarning: IProgress not found. Please update jupyter and ipywidgets. See https://ipywidgets.readthedocs.io/en/stable/user_install.html\n",
      "  from .autonotebook import tqdm as notebook_tqdm\n"
     ]
    }
   ],
   "source": [
    "import textual_help as th"
   ]
  },
  {
   "cell_type": "code",
   "execution_count": 2,
   "id": "76d8735a",
   "metadata": {},
   "outputs": [],
   "source": [
    "h3d_df = th.read_data_texts(\"../datasets/humanml3d/texts\")\n",
    "kit_df = th.read_data_texts(\"../datasets/KIT-ML/texts\")"
   ]
  },
  {
   "cell_type": "code",
   "execution_count": 3,
   "id": "822deaa1",
   "metadata": {},
   "outputs": [
    {
     "data": {
      "application/vnd.microsoft.datawrangler.viewer.v0+json": {
       "columns": [
        {
         "name": "index",
         "rawType": "int64",
         "type": "integer"
        },
        {
         "name": "motion_id",
         "rawType": "object",
         "type": "string"
        },
        {
         "name": "description",
         "rawType": "object",
         "type": "string"
        },
        {
         "name": "pos_tags",
         "rawType": "object",
         "type": "string"
        },
        {
         "name": "num1",
         "rawType": "float64",
         "type": "float"
        },
        {
         "name": "num2",
         "rawType": "float64",
         "type": "float"
        }
       ],
       "ref": "74b9ee43-2e6b-4e59-ab4f-145195ba3879",
       "rows": [
        [
         "0",
         "011439",
         "the person puts his hands by their mouth and turns head from right to left and then drops his hands to get on one knee and then begins to tie his left shoe.",
         "the/DET person/NOUN put/VERB his/DET hand/NOUN by/ADP their/DET mouth/NOUN and/CCONJ turn/VERB head/NOUN from/ADP right/NOUN to/ADP left/NOUN and/CCONJ then/ADV drop/VERB his/DET hand/NOUN to/PART get/AUX on/ADP one/NUM knee/NOUN and/CCONJ then/ADV begin/VERB to/PART tie/VERB his/DET left/ADJ shoe/NOUN",
         "0.0",
         "0.0"
        ],
        [
         "1",
         "011439",
         "person leans to the right and cups hands around mouth. person looks from side to side with hands around mouth. then they lean down to tie their right shoe",
         "person/NOUN lean/VERB to/ADP the/DET right/NOUN and/CCONJ cup/VERB hand/VERB around/ADP mouth/NOUN person/NOUN look/VERB from/ADP side/NOUN to/PART side/VERB with/ADP hand/NOUN around/ADP mouth/NOUN then/ADV they/PRON lean/VERB down/ADP to/PART tie/VERB their/DET right/ADJ shoe/NOUN",
         "0.0",
         "0.0"
        ],
        [
         "2",
         "011439",
         "a person raised the hands and lean it into face",
         "a/DET person/NOUN raise/VERB the/DET hand/NOUN and/CCONJ lean/VERB it/PRON into/ADP face/NOUN",
         "0.0",
         "0.0"
        ],
        [
         "3",
         "009276",
         "the person bend over and pick some thing up.",
         "the/DET person/NOUN bend/VERB over/ADP and/CCONJ pick/VERB some/DET thing/NOUN up/ADP",
         "0.0",
         "0.0"
        ],
        [
         "4",
         "009276",
         "a peraon bends over, using the right leg to bear weight while kicking back his left leg, and picks something up with his right hand.",
         "a/DET peraon/ADJ bend/NOUN over/ADP use/VERB the/DET right/ADJ leg/NOUN to/PART bear/VERB weight/NOUN while/SCONJ kick/VERB back/ADV his/DET left/ADJ leg/NOUN and/CCONJ pick/VERB something/PRON up/ADP with/ADP his/DET right/ADJ hand/NOUN",
         "0.0",
         "0.0"
        ],
        [
         "5",
         "009276",
         "a person picks up something with their right hand.",
         "a/DET person/NOUN pick/VERB up/ADP something/PRON with/ADP their/DET right/ADJ hand/NOUN",
         "0.0",
         "0.0"
        ],
        [
         "6",
         "M009233",
         "a person slowly walked forward",
         "a/DET person/NOUN slowly/ADV walk/VERB forward/ADV",
         "0.0",
         "0.0"
        ],
        [
         "7",
         "M009233",
         "walking forward and then stopping.",
         "walk/VERB forward/ADV and/CCONJ then/ADV stop/VERB",
         "0.0",
         "0.0"
        ],
        [
         "8",
         "M009233",
         "a person walks forward at medium speed.",
         "a/DET person/NOUN walk/VERB forward/ADV at/ADP medium/ADJ speed/NOUN",
         "0.0",
         "0.0"
        ],
        [
         "9",
         "006145",
         "a person reaches for something with both hands, the raises their left hand then sets its hands back down.",
         "a/DET person/NOUN reach/VERB for/ADP something/PRON with/ADP both/DET hand/NOUN the/DET raise/VERB their/DET left/ADJ hand/NOUN then/ADV set/VERB its/DET hand/NOUN back/ADV down/ADV",
         "0.0",
         "0.0"
        ],
        [
         "10",
         "006145",
         "a person tilts object on its side.",
         "a/DET person/NOUN tilt/VERB object/NOUN on/ADP its/DET side/NOUN",
         "0.0",
         "0.0"
        ],
        [
         "11",
         "006145",
         "stick figure stands an object up holding it a few seconds before setting it back down",
         "stick/PROPN figure/NOUN stand/VERB an/DET object/NOUN up/ADP hold/VERB it/PRON a/DET few/ADJ second/NOUN before/ADP set/VERB it/PRON back/ADV down/ADP",
         "1.0",
         "10.0"
        ],
        [
         "12",
         "M006100",
         "a person raises their left hand to their head, leans forward and back, drinking something that they are holding.",
         "a/DET person/NOUN raise/VERB their/DET left/ADJ hand/NOUN to/ADP their/DET head/NOUN lean/VERB forward/ADV and/CCONJ back/ADV drink/VERB something/PRON that/DET they/PRON are/AUX hold/VERB",
         "0.0",
         "0.0"
        ],
        [
         "13",
         "M006100",
         "a person was laughing while keep his left hand on the face",
         "a/DET person/NOUN was/AUX laugh/VERB while/SCONJ keep/VERB his/DET left/ADJ hand/NOUN on/ADP the/DET face/NOUN",
         "0.0",
         "0.0"
        ],
        [
         "14",
         "M006100",
         "a person raises his left hand to his head and leans his upper body to his right and then to his left.",
         "a/DET person/NOUN raise/VERB his/DET left/ADJ hand/NOUN to/ADP his/DET head/NOUN and/CCONJ lean/VERB his/DET upper/ADJ body/NOUN to/ADP his/DET right/NOUN and/CCONJ then/ADV to/ADP his/DET left/NOUN",
         "0.0",
         "0.0"
        ],
        [
         "15",
         "008168",
         "he lifts dumbblell with two hands",
         "he/PRON lift/VERB dumbblell/NOUN with/ADP two/NUM hand/NOUN",
         "0.0",
         "0.0"
        ],
        [
         "16",
         "008168",
         "a person stands with elbows bent, and proceeds to curl their arms from the elbow toward their shoulders.",
         "a/DET person/NOUN stand/VERB with/ADP elbow/NOUN bent/ADJ and/CCONJ proceed/VERB to/PART curl/VERB their/DET arm/NOUN from/ADP the/DET elbow/NOUN toward/ADP their/DET shoulder/NOUN",
         "0.0",
         "0.0"
        ],
        [
         "17",
         "008168",
         "a person moves both hands.",
         "a/DET person/NOUN move/VERB both/DET hand/NOUN",
         "0.0",
         "0.0"
        ],
        [
         "18",
         "M010762",
         "the person is doing ballet twirls.",
         "the/DET person/NOUN is/AUX do/VERB ballet/NOUN twirl/NOUN",
         "0.0",
         "0.0"
        ],
        [
         "19",
         "M010762",
         "a person is doing a dance.",
         "a/DET person/NOUN is/AUX do/VERB a/DET dance/NOUN",
         "0.0",
         "0.0"
        ],
        [
         "20",
         "M010762",
         "a man spins around, plays the air guitar, then does a little dance.",
         "a/DET man/NOUN spin/VERB around/ADV play/VERB the/DET air/NOUN guitar/NOUN then/ADV does/AUX a/DET little/ADJ dance/NOUN",
         "0.0",
         "0.0"
        ],
        [
         "21",
         "010727",
         "a person dances like michael jackson by kicking their right leg and moonwalking backwards.",
         "a/DET person/NOUN dance/VERB like/SCONJ michael/PROPN jackson/PROPN by/ADP kick/VERB their/DET right/ADJ leg/NOUN and/CCONJ moonwalking/NOUN backwards/ADV",
         "0.0",
         "0.0"
        ],
        [
         "22",
         "010727",
         "a man dances, doing the moonwalk and kicking his legs.",
         "a/DET man/NOUN dance/VERB do/VERB the/DET moonwalk/NOUN and/CCONJ kick/VERB his/DET leg/NOUN",
         "0.0",
         "0.0"
        ],
        [
         "23",
         "010727",
         "a person dancing in way michael jackson does and performs a moonwalk at the end",
         "a/DET person/NOUN dance/VERB in/ADP way/NOUN michael/PROPN jackson/PROPN does/AUX and/CCONJ perform/VERB a/DET moonwalk/NOUN at/ADP the/DET end/NOUN",
         "0.0",
         "0.0"
        ],
        [
         "24",
         "000534",
         "a person standing in place raises both arms to the side raising them above eye level.",
         "a/DET person/NOUN stand/VERB in/ADP place/NOUN raise/VERB both/DET arm/NOUN to/ADP the/DET side/NOUN raise/VERB them/PRON above/ADP eye/NOUN level/NOUN",
         "0.0",
         "0.0"
        ],
        [
         "25",
         "000534",
         "the person is stretching arms out.",
         "the/DET person/NOUN is/AUX stretch/VERB arm/NOUN out/ADV",
         "0.0",
         "0.0"
        ],
        [
         "26",
         "000534",
         "someone stretches both arms out to the side.",
         "someone/PRON stretch/VERB both/DET arm/NOUN out/ADV to/ADP the/DET side/NOUN",
         "0.0",
         "0.0"
        ],
        [
         "27",
         "M000571",
         "a person loses his balance towards his left and then steps back towards his right.",
         "a/DET person/NOUN lose/VERB his/DET balance/NOUN towards/ADP his/DET left/NOUN and/CCONJ then/ADV step/VERB back/ADV towards/ADP his/DET right/NOUN",
         "0.0",
         "0.0"
        ],
        [
         "28",
         "M000571",
         "a person steps sideways to the left and then sideways to the right.",
         "a/DET person/NOUN step/VERB sideways/ADV to/ADP the/DET left/NOUN and/CCONJ then/ADV sideway/VERB to/ADP the/DET right/NOUN",
         "0.0",
         "0.0"
        ],
        [
         "29",
         "M000571",
         "a person steps to the right while crossing left foot behind right foot, then steps back to the left.",
         "a/DET person/NOUN step/VERB to/ADP the/DET right/ADJ while/SCONJ cross/VERB left/VERB foot/NOUN behind/ADP right/ADJ foot/NOUN then/ADV step/VERB back/ADV to/ADP the/DET left/NOUN",
         "0.0",
         "0.0"
        ],
        [
         "30",
         "M014504",
         "a person walks in a semi-circular pattern, tip-toeing.",
         "a/DET person/NOUN walk/VERB in/ADP a/DET semicircular/ADJ pattern/NOUN tiptoe/VERB",
         "0.0",
         "0.0"
        ],
        [
         "31",
         "M014504",
         "a person slowly and carefully walks in a curved line.",
         "a/DET person/NOUN slowly/ADV and/CCONJ carefully/ADV walk/VERB in/ADP a/DET curved/ADJ line/NOUN",
         "0.0",
         "0.0"
        ],
        [
         "32",
         "M014504",
         "person looks to be walking with a purpose ( maybe exercise)  and doing so while rotating their hips. the person is then slowed down towards the end of the sequence",
         "person/NOUN look/VERB to/PART be/AUX walk/VERB with/ADP a/DET purpose/NOUN maybe/ADV exercise/NOUN and/CCONJ do/VERB so/ADV while/SCONJ rotate/VERB their/DET hip/NOUN the/DET person/NOUN is/AUX then/ADV slow/VERB down/ADP towards/ADP the/DET end/NOUN of/ADP the/DET sequence/NOUN",
         "0.0",
         "0.0"
        ],
        [
         "33",
         "014541",
         "a figure does jumping jacks",
         "a/DET figure/NOUN does/AUX jump/VERB jack/NOUN",
         "0.0",
         "0.0"
        ],
        [
         "34",
         "014541",
         "the man does 3 jumping jacks.",
         "the/DET man/NOUN does/AUX jump/VERB jack/NOUN",
         "0.0",
         "0.0"
        ],
        [
         "35",
         "014541",
         "the person is doing jumping jacks.",
         "the/DET person/NOUN is/AUX do/VERB jump/VERB jack/NOUN",
         "0.0",
         "0.0"
        ],
        [
         "36",
         "M003078",
         "a person stands with an umbrella; they lower it in front of them and pull the umbrella closed.",
         "a/DET person/NOUN stand/VERB with/ADP an/DET umbrella/NOUN they/PRON lower/VERB it/PRON in/ADP front/NOUN of/ADP them/PRON and/CCONJ pull/VERB the/DET umbrella/NOUN close/VERB",
         "0.0",
         "0.0"
        ],
        [
         "37",
         "M003078",
         "a person has his left hand in the air and drops it towards his right hand.",
         "a/DET person/NOUN has/AUX his/DET left/ADJ hand/NOUN in/ADP the/DET air/NOUN and/CCONJ drop/VERB it/PRON towards/ADP his/DET right/ADJ hand/NOUN",
         "0.0",
         "0.0"
        ],
        [
         "38",
         "M003078",
         "a person holding object up with left hand, lowers left arm and pulls object with right hand towards them.",
         "a/DET person/NOUN hold/VERB object/NOUN up/ADP with/ADP left/ADJ hand/NOUN lower/NOUN left/VERB arm/NOUN and/CCONJ pull/VERB object/VERB with/ADP right/ADJ hand/NOUN towards/ADP them/PRON",
         "0.0",
         "0.0"
        ],
        [
         "39",
         "004752",
         "a standing person extends both of their hands forward, then drops their arms to their side.",
         "a/DET stand/VERB person/NOUN extend/VERB both/DET of/ADP their/DET hand/NOUN forward/ADV then/ADV drop/VERB their/DET arm/NOUN to/ADP their/DET side/NOUN",
         "0.0",
         "0.0"
        ],
        [
         "40",
         "004752",
         "a person holds something in front of their chest.",
         "a/DET person/NOUN hold/VERB something/PRON in/ADP front/NOUN of/ADP their/DET chest/NOUN",
         "0.0",
         "0.0"
        ],
        [
         "41",
         "004752",
         "a person remains stationary while lowering his arms to his sides, then brings them forward with elbows bent and placing their hands as if there is an invisible steering wheel, then returning their arms to the relaxed position at their side.",
         "a/DET person/NOUN remain/VERB stationary/ADJ while/SCONJ lower/VERB his/DET arm/NOUN to/ADP his/DET side/NOUN then/ADV bring/VERB them/PRON forward/ADV with/ADP elbow/NOUN bent/ADJ and/CCONJ place/VERB their/DET hand/NOUN as/SCONJ if/SCONJ there/PRON is/AUX an/DET invisible/ADJ steering/NOUN wheel/NOUN then/ADV return/VERB their/DET arm/NOUN to/ADP the/DET relaxed/ADJ position/NOUN at/ADP their/DET side/NOUN",
         "0.0",
         "0.0"
        ],
        [
         "42",
         "M004717",
         "a man took two steps forward and then two steps backward.",
         "a/DET man/NOUN take/VERB two/NUM step/NOUN forward/ADV and/CCONJ then/ADV two/NUM step/NOUN backward/ADV",
         "0.0",
         "0.0"
        ],
        [
         "43",
         "M004717",
         "a person steps forward, turns, and steps back forming a figure eight.",
         "a/DET person/NOUN step/VERB forward/ADV turn/VERB and/CCONJ step/VERB back/ADV form/VERB a/DET figure/NOUN eight/NUM",
         "0.0",
         "0.0"
        ],
        [
         "44",
         "M004717",
         "the figure walks forward a couple steps, turns 180 degrees and walks back.",
         "the/DET figure/NOUN walk/VERB forward/ADV a/DET couple/NOUN step/NOUN turn/VERB degree/NOUN and/CCONJ walk/VERB back/ADV",
         "0.0",
         "0.0"
        ],
        [
         "45",
         "M005409",
         "a person slowly walks forward",
         "a/DET person/NOUN slowly/ADV walk/VERB forward/ADV",
         "0.0",
         "0.0"
        ],
        [
         "46",
         "M005409",
         "person walking forward with alot of sway and swagger",
         "person/NOUN walk/VERB forward/ADV with/ADP alot/NOUN of/ADP sway/NOUN and/CCONJ swagger/NOUN",
         "0.0",
         "0.0"
        ],
        [
         "47",
         "M005409",
         "a man walks forward swaying from right to left.",
         "a/DET man/NOUN walk/VERB forward/ADV sway/VERB from/ADP right/NOUN to/ADP left/NOUN",
         "0.0",
         "0.0"
        ],
        [
         "48",
         "M012175",
         "a person stands still and moves their arms as if they were swimming.",
         "a/DET person/NOUN stand/VERB still/ADV and/CCONJ move/VERB their/DET arm/NOUN as/SCONJ if/SCONJ they/PRON were/AUX swim/VERB",
         "0.0",
         "0.0"
        ],
        [
         "49",
         "M012175",
         "this person is waving his arms in the air.",
         "this/DET person/NOUN is/AUX wave/VERB his/DET arm/NOUN in/ADP the/DET air/NOUN",
         "0.0",
         "0.0"
        ]
       ],
       "shape": {
        "columns": 5,
        "rows": 87384
       }
      },
      "text/html": [
       "<div>\n",
       "<style scoped>\n",
       "    .dataframe tbody tr th:only-of-type {\n",
       "        vertical-align: middle;\n",
       "    }\n",
       "\n",
       "    .dataframe tbody tr th {\n",
       "        vertical-align: top;\n",
       "    }\n",
       "\n",
       "    .dataframe thead th {\n",
       "        text-align: right;\n",
       "    }\n",
       "</style>\n",
       "<table border=\"1\" class=\"dataframe\">\n",
       "  <thead>\n",
       "    <tr style=\"text-align: right;\">\n",
       "      <th></th>\n",
       "      <th>motion_id</th>\n",
       "      <th>description</th>\n",
       "      <th>pos_tags</th>\n",
       "      <th>num1</th>\n",
       "      <th>num2</th>\n",
       "    </tr>\n",
       "  </thead>\n",
       "  <tbody>\n",
       "    <tr>\n",
       "      <th>0</th>\n",
       "      <td>011439</td>\n",
       "      <td>the person puts his hands by their mouth and t...</td>\n",
       "      <td>the/DET person/NOUN put/VERB his/DET hand/NOUN...</td>\n",
       "      <td>0.0</td>\n",
       "      <td>0.0</td>\n",
       "    </tr>\n",
       "    <tr>\n",
       "      <th>1</th>\n",
       "      <td>011439</td>\n",
       "      <td>person leans to the right and cups hands aroun...</td>\n",
       "      <td>person/NOUN lean/VERB to/ADP the/DET right/NOU...</td>\n",
       "      <td>0.0</td>\n",
       "      <td>0.0</td>\n",
       "    </tr>\n",
       "    <tr>\n",
       "      <th>2</th>\n",
       "      <td>011439</td>\n",
       "      <td>a person raised the hands and lean it into face</td>\n",
       "      <td>a/DET person/NOUN raise/VERB the/DET hand/NOUN...</td>\n",
       "      <td>0.0</td>\n",
       "      <td>0.0</td>\n",
       "    </tr>\n",
       "    <tr>\n",
       "      <th>3</th>\n",
       "      <td>009276</td>\n",
       "      <td>the person bend over and pick some thing up.</td>\n",
       "      <td>the/DET person/NOUN bend/VERB over/ADP and/CCO...</td>\n",
       "      <td>0.0</td>\n",
       "      <td>0.0</td>\n",
       "    </tr>\n",
       "    <tr>\n",
       "      <th>4</th>\n",
       "      <td>009276</td>\n",
       "      <td>a peraon bends over, using the right leg to be...</td>\n",
       "      <td>a/DET peraon/ADJ bend/NOUN over/ADP use/VERB t...</td>\n",
       "      <td>0.0</td>\n",
       "      <td>0.0</td>\n",
       "    </tr>\n",
       "    <tr>\n",
       "      <th>...</th>\n",
       "      <td>...</td>\n",
       "      <td>...</td>\n",
       "      <td>...</td>\n",
       "      <td>...</td>\n",
       "      <td>...</td>\n",
       "    </tr>\n",
       "    <tr>\n",
       "      <th>87379</th>\n",
       "      <td>011420</td>\n",
       "      <td>a person steps back and gets ready to throw so...</td>\n",
       "      <td>a/DET person/NOUN step/VERB back/ADV and/CCONJ...</td>\n",
       "      <td>0.0</td>\n",
       "      <td>0.0</td>\n",
       "    </tr>\n",
       "    <tr>\n",
       "      <th>87380</th>\n",
       "      <td>011420</td>\n",
       "      <td>a person punches with their left hand.</td>\n",
       "      <td>a/DET person/NOUN punch/VERB with/ADP their/DE...</td>\n",
       "      <td>0.0</td>\n",
       "      <td>0.0</td>\n",
       "    </tr>\n",
       "    <tr>\n",
       "      <th>87381</th>\n",
       "      <td>M006119</td>\n",
       "      <td>a person is walking forward whilst limping wit...</td>\n",
       "      <td>a/DET person/NOUN is/AUX walk/VERB forward/ADV...</td>\n",
       "      <td>0.0</td>\n",
       "      <td>0.0</td>\n",
       "    </tr>\n",
       "    <tr>\n",
       "      <th>87382</th>\n",
       "      <td>M006119</td>\n",
       "      <td>person stands still then moves draging left fo...</td>\n",
       "      <td>person/NOUN stand/VERB still/ADV then/ADV move...</td>\n",
       "      <td>0.0</td>\n",
       "      <td>0.0</td>\n",
       "    </tr>\n",
       "    <tr>\n",
       "      <th>87383</th>\n",
       "      <td>M006119</td>\n",
       "      <td>a person limps forward in a diagonal line, tur...</td>\n",
       "      <td>a/DET person/NOUN limp/VERB forward/ADV in/ADP...</td>\n",
       "      <td>0.0</td>\n",
       "      <td>0.0</td>\n",
       "    </tr>\n",
       "  </tbody>\n",
       "</table>\n",
       "<p>87384 rows × 5 columns</p>\n",
       "</div>"
      ],
      "text/plain": [
       "      motion_id                                        description  \\\n",
       "0        011439  the person puts his hands by their mouth and t...   \n",
       "1        011439  person leans to the right and cups hands aroun...   \n",
       "2        011439    a person raised the hands and lean it into face   \n",
       "3        009276       the person bend over and pick some thing up.   \n",
       "4        009276  a peraon bends over, using the right leg to be...   \n",
       "...         ...                                                ...   \n",
       "87379    011420  a person steps back and gets ready to throw so...   \n",
       "87380    011420             a person punches with their left hand.   \n",
       "87381   M006119  a person is walking forward whilst limping wit...   \n",
       "87382   M006119  person stands still then moves draging left fo...   \n",
       "87383   M006119  a person limps forward in a diagonal line, tur...   \n",
       "\n",
       "                                                pos_tags  num1  num2  \n",
       "0      the/DET person/NOUN put/VERB his/DET hand/NOUN...   0.0   0.0  \n",
       "1      person/NOUN lean/VERB to/ADP the/DET right/NOU...   0.0   0.0  \n",
       "2      a/DET person/NOUN raise/VERB the/DET hand/NOUN...   0.0   0.0  \n",
       "3      the/DET person/NOUN bend/VERB over/ADP and/CCO...   0.0   0.0  \n",
       "4      a/DET peraon/ADJ bend/NOUN over/ADP use/VERB t...   0.0   0.0  \n",
       "...                                                  ...   ...   ...  \n",
       "87379  a/DET person/NOUN step/VERB back/ADV and/CCONJ...   0.0   0.0  \n",
       "87380  a/DET person/NOUN punch/VERB with/ADP their/DE...   0.0   0.0  \n",
       "87381  a/DET person/NOUN is/AUX walk/VERB forward/ADV...   0.0   0.0  \n",
       "87382  person/NOUN stand/VERB still/ADV then/ADV move...   0.0   0.0  \n",
       "87383  a/DET person/NOUN limp/VERB forward/ADV in/ADP...   0.0   0.0  \n",
       "\n",
       "[87384 rows x 5 columns]"
      ]
     },
     "execution_count": 3,
     "metadata": {},
     "output_type": "execute_result"
    }
   ],
   "source": [
    "h3d_df"
   ]
  },
  {
   "cell_type": "code",
   "execution_count": 4,
   "id": "350043ca",
   "metadata": {},
   "outputs": [],
   "source": [
    "#th.analysis_routine(h3d_df)"
   ]
  },
  {
   "cell_type": "code",
   "execution_count": 5,
   "id": "89335c0f",
   "metadata": {},
   "outputs": [
    {
     "name": "stdout",
     "output_type": "stream",
     "text": [
      "\n",
      "=== Corpus Stats ===\n",
      "num_captions: 12700\n",
      "num_motions: 6018\n",
      "avg_tokens: 8.291968503937008\n",
      "std_tokens: 4.218847656441717\n",
      "median_tokens: 7.0\n",
      "vocab_size: 1287\n",
      "top_20_words: [('a', 14470), ('person', 8622), ('walk', 6288), ('the', 4516), ('forward', 3151), ('and', 3042), ('to', 2676), ('step', 2574), ('is', 2512), ('human', 2284)] ...\n",
      "pos_distribution: {'ADJ': 6249, 'VERB': 18490, 'ADV': 9463, 'DET': 22037, 'NOUN': 27890, 'AUX': 2870, 'CCONJ': 3139, 'SCONJ': 853, 'PRON': 2347, 'ADP': 10170, 'NUM': 1088, 'PART': 279, 'PROPN': 418, 'X': 6, 'PUNCT': 2, 'INTJ': 7}\n",
      "pos_means_per_caption: {'mean_ADV': 0.7451181102362204, 'mean_PRON': 0.1848031496062992, 'mean_ADJ': 0.4920472440944882, 'mean_NOUN': 2.1960629921259844, 'mean_VERB': 1.4559055118110236, 'mean_ADP': 0.8007874015748031}\n",
      "captions_per_motion_mean: 2.1103356596876037\n",
      "captions_per_motion_median: 2.0\n",
      "\n",
      "\n",
      "\n",
      "\n",
      "=== Motion-specific Cues ===\n",
      "Top verbs: [('walk', 6195), ('turn', 1210), ('push', 808), ('perform', 778), ('take', 544), ('go', 524), ('get', 512), ('run', 486), ('stand', 440), ('make', 436)] ...\n",
      "Rate with direction cues: 0.563\n",
      "Rate with speed cues: 0.079\n",
      "Rate with body-part mentions: 0.196\n",
      "\n",
      "\n",
      "\n",
      "\n",
      "=== Actor Addressing ===\n",
      "Label rates: {'neutral_noun': 0.77, 'none': 0.216, 'male_noun': 0.011, 'male_pron': 0.002, 'neutral_pron': 0.0, 'female_noun': 0.0}\n",
      "Top actor nouns: [('person', 8620), ('human', 1168), ('man', 140), ('subject', 46), ('dancer', 6), ('child', 2), ('woman', 2)] ...\n",
      "Per-motion (top 5 by gendered share):\n",
      "     motion_id  share_gendered_captions  share_neutral_captions\n",
      "2865     03695                      1.0                     0.0\n",
      "5272    M02469                      1.0                     0.0\n",
      "5516    M02974                      1.0                     0.0\n",
      "2533     03036                      1.0                     0.0\n",
      "5265    M02447                      1.0                     0.0\n",
      "\n",
      "\n",
      "\n",
      "\n",
      "=== Redundancy ===\n",
      "Duplicate caption rate: 0.5231\n",
      "Top bigrams: [('a person', 7846), ('person walks', 2794), ('to the', 1950), ('a human', 1664), ('person is', 1398), ('the left', 1213), ('the right', 1213), ('walks forward', 984), ('in a', 962), ('steps forward', 712)] ...\n",
      "Top trigrams: [('a person walks', 2770), ('a person is', 1186), ('to the left', 798), ('to the right', 798), ('person walks forward', 670), ('walks in a', 420), ('in a circle', 378), ('a human is', 376), ('person is walking', 348), ('a few steps', 344)] ...\n",
      "\n",
      "\n",
      "\n",
      "\n",
      "=== Intra-motion Similarity (MiniLM) ===\n",
      "{'backend': 'minilm', 'mean_of_means': 0.6855181297201225, 'median_of_means': 0.6957469880580902, 'quantiles': {0.1: 0.49551954269409176, 0.25: 0.596465215086937, 0.5: 0.6957469880580902, 0.75: 0.7820118516683578, 0.9: 0.8623410046100617}}\n",
      "Top 3 most consistent motions (MiniLM):\n",
      "     motion_id  mean_intra_caption_sim  num_captions\n",
      "3446    M00444                     1.0             2\n",
      "437      00444                     1.0             2\n",
      "4143    M01142                     1.0             2\n",
      "\n",
      "=== Intra-motion Similarity (DistilBERT-uncased) ===\n",
      "Using device: mps\n",
      "{'backend': 'distilbert-meanpool', 'mean_of_means': 0.8530112772471367, 'median_of_means': 0.8546164929866791, 'quantiles': {0.1: 0.7899687767028809, 0.25: 0.8219884037971497, 0.5: 0.8546164929866791, 0.75: 0.8874177932739258, 0.9: 0.9177315711975098}}\n",
      "Top 3 most consistent motions (DistilBERT):\n",
      "     motion_id  mean_intra_caption_sim  num_captions\n",
      "4143    M01142                     1.0             2\n",
      "3446    M00444                     1.0             2\n",
      "1134     01142                     1.0             2\n",
      "\n",
      "=== Backend comparison ===\n",
      "               backend  mean_of_means  median_of_means  \\\n",
      "0               minilm       0.685518         0.695747   \n",
      "1  distilbert-meanpool       0.853011         0.854616   \n",
      "\n",
      "                                           quantiles  \n",
      "0  {0.1: 0.49551954269409176, 0.25: 0.59646521508...  \n",
      "1  {0.1: 0.7899687767028809, 0.25: 0.821988403797...  \n",
      "\n",
      "\n",
      "\n"
     ]
    },
    {
     "ename": "ValueError",
     "evalue": "setting an array element with a sequence. The requested array has an inhomogeneous shape after 1 dimensions. The detected shape was (2,) + inhomogeneous part.",
     "output_type": "error",
     "traceback": [
      "\u001b[0;31m---------------------------------------------------------------------------\u001b[0m",
      "\u001b[0;31mValueError\u001b[0m                                Traceback (most recent call last)",
      "Cell \u001b[0;32mIn[5], line 1\u001b[0m\n\u001b[0;32m----> 1\u001b[0m \u001b[43mth\u001b[49m\u001b[38;5;241;43m.\u001b[39;49m\u001b[43manalysis_routine\u001b[49m\u001b[43m(\u001b[49m\u001b[43mkit_df\u001b[49m\u001b[43m)\u001b[49m\n",
      "File \u001b[0;32m~/LocalDocs/dlhm_local/data_analysis/textual/textual_help.py:944\u001b[0m, in \u001b[0;36manalysis_routine\u001b[0;34m(df)\u001b[0m\n\u001b[1;32m    942\u001b[0m \u001b[38;5;28mprint\u001b[39m(\u001b[38;5;124m\"\u001b[39m\u001b[38;5;130;01m\\n\u001b[39;00m\u001b[38;5;130;01m\\n\u001b[39;00m\u001b[38;5;124m\"\u001b[39m)\n\u001b[1;32m    943\u001b[0m \u001b[38;5;66;03m# E) (Optional) Quick clustering of captions\u001b[39;00m\n\u001b[0;32m--> 944\u001b[0m clustered_df, top_terms \u001b[38;5;241m=\u001b[39m \u001b[43mcluster_captions\u001b[49m\u001b[43m(\u001b[49m\u001b[43mdf\u001b[49m\u001b[43m,\u001b[49m\u001b[43m \u001b[49m\u001b[43mk\u001b[49m\u001b[38;5;241;43m=\u001b[39;49m\u001b[38;5;241;43m20\u001b[39;49m\u001b[43m,\u001b[49m\u001b[43m \u001b[49m\u001b[43mrandom_state\u001b[49m\u001b[38;5;241;43m=\u001b[39;49m\u001b[38;5;241;43m0\u001b[39;49m\u001b[43m)\u001b[49m\n\u001b[1;32m    945\u001b[0m \u001b[38;5;28mprint\u001b[39m(\u001b[38;5;124m\"\u001b[39m\u001b[38;5;130;01m\\n\u001b[39;00m\u001b[38;5;124m=== Clustering ===\u001b[39m\u001b[38;5;124m\"\u001b[39m)\n\u001b[1;32m    946\u001b[0m \u001b[38;5;28mprint\u001b[39m(clustered_df[\u001b[38;5;124m\"\u001b[39m\u001b[38;5;124mcluster\u001b[39m\u001b[38;5;124m\"\u001b[39m]\u001b[38;5;241m.\u001b[39mvalue_counts()\u001b[38;5;241m.\u001b[39mhead())\n",
      "File \u001b[0;32m~/LocalDocs/dlhm_local/data_analysis/textual/textual_help.py:442\u001b[0m, in \u001b[0;36mcluster_captions\u001b[0;34m(df, k, random_state)\u001b[0m\n\u001b[1;32m    439\u001b[0m     X \u001b[38;5;241m=\u001b[39m X\u001b[38;5;241m.\u001b[39mtoarray()\n\u001b[1;32m    441\u001b[0m kmeans \u001b[38;5;241m=\u001b[39m KMeans(n_clusters\u001b[38;5;241m=\u001b[39mk, n_init\u001b[38;5;241m=\u001b[39m\u001b[38;5;124m\"\u001b[39m\u001b[38;5;124mauto\u001b[39m\u001b[38;5;124m\"\u001b[39m, random_state\u001b[38;5;241m=\u001b[39mrandom_state)\n\u001b[0;32m--> 442\u001b[0m labels \u001b[38;5;241m=\u001b[39m \u001b[43mkmeans\u001b[49m\u001b[38;5;241;43m.\u001b[39;49m\u001b[43mfit_predict\u001b[49m\u001b[43m(\u001b[49m\u001b[43mX\u001b[49m\u001b[43m)\u001b[49m\n\u001b[1;32m    443\u001b[0m df \u001b[38;5;241m=\u001b[39m df\u001b[38;5;241m.\u001b[39massign(cluster\u001b[38;5;241m=\u001b[39mlabels)\n\u001b[1;32m    444\u001b[0m top_terms \u001b[38;5;241m=\u001b[39m \u001b[38;5;28;01mNone\u001b[39;00m\n",
      "File \u001b[0;32m~/.pyenv/versions/glob/lib/python3.9/site-packages/sklearn/cluster/_kmeans.py:1064\u001b[0m, in \u001b[0;36m_BaseKMeans.fit_predict\u001b[0;34m(self, X, y, sample_weight)\u001b[0m\n\u001b[1;32m   1041\u001b[0m \u001b[38;5;28;01mdef\u001b[39;00m\u001b[38;5;250m \u001b[39m\u001b[38;5;21mfit_predict\u001b[39m(\u001b[38;5;28mself\u001b[39m, X, y\u001b[38;5;241m=\u001b[39m\u001b[38;5;28;01mNone\u001b[39;00m, sample_weight\u001b[38;5;241m=\u001b[39m\u001b[38;5;28;01mNone\u001b[39;00m):\n\u001b[1;32m   1042\u001b[0m \u001b[38;5;250m    \u001b[39m\u001b[38;5;124;03m\"\"\"Compute cluster centers and predict cluster index for each sample.\u001b[39;00m\n\u001b[1;32m   1043\u001b[0m \n\u001b[1;32m   1044\u001b[0m \u001b[38;5;124;03m    Convenience method; equivalent to calling fit(X) followed by\u001b[39;00m\n\u001b[0;32m   (...)\u001b[0m\n\u001b[1;32m   1062\u001b[0m \u001b[38;5;124;03m        Index of the cluster each sample belongs to.\u001b[39;00m\n\u001b[1;32m   1063\u001b[0m \u001b[38;5;124;03m    \"\"\"\u001b[39;00m\n\u001b[0;32m-> 1064\u001b[0m     \u001b[38;5;28;01mreturn\u001b[39;00m \u001b[38;5;28;43mself\u001b[39;49m\u001b[38;5;241;43m.\u001b[39;49m\u001b[43mfit\u001b[49m\u001b[43m(\u001b[49m\u001b[43mX\u001b[49m\u001b[43m,\u001b[49m\u001b[43m \u001b[49m\u001b[43msample_weight\u001b[49m\u001b[38;5;241;43m=\u001b[39;49m\u001b[43msample_weight\u001b[49m\u001b[43m)\u001b[49m\u001b[38;5;241m.\u001b[39mlabels_\n",
      "File \u001b[0;32m~/.pyenv/versions/glob/lib/python3.9/site-packages/sklearn/base.py:1389\u001b[0m, in \u001b[0;36m_fit_context.<locals>.decorator.<locals>.wrapper\u001b[0;34m(estimator, *args, **kwargs)\u001b[0m\n\u001b[1;32m   1382\u001b[0m     estimator\u001b[38;5;241m.\u001b[39m_validate_params()\n\u001b[1;32m   1384\u001b[0m \u001b[38;5;28;01mwith\u001b[39;00m config_context(\n\u001b[1;32m   1385\u001b[0m     skip_parameter_validation\u001b[38;5;241m=\u001b[39m(\n\u001b[1;32m   1386\u001b[0m         prefer_skip_nested_validation \u001b[38;5;129;01mor\u001b[39;00m global_skip_validation\n\u001b[1;32m   1387\u001b[0m     )\n\u001b[1;32m   1388\u001b[0m ):\n\u001b[0;32m-> 1389\u001b[0m     \u001b[38;5;28;01mreturn\u001b[39;00m \u001b[43mfit_method\u001b[49m\u001b[43m(\u001b[49m\u001b[43mestimator\u001b[49m\u001b[43m,\u001b[49m\u001b[43m \u001b[49m\u001b[38;5;241;43m*\u001b[39;49m\u001b[43margs\u001b[49m\u001b[43m,\u001b[49m\u001b[43m \u001b[49m\u001b[38;5;241;43m*\u001b[39;49m\u001b[38;5;241;43m*\u001b[39;49m\u001b[43mkwargs\u001b[49m\u001b[43m)\u001b[49m\n",
      "File \u001b[0;32m~/.pyenv/versions/glob/lib/python3.9/site-packages/sklearn/cluster/_kmeans.py:1454\u001b[0m, in \u001b[0;36mKMeans.fit\u001b[0;34m(self, X, y, sample_weight)\u001b[0m\n\u001b[1;32m   1426\u001b[0m \u001b[38;5;129m@_fit_context\u001b[39m(prefer_skip_nested_validation\u001b[38;5;241m=\u001b[39m\u001b[38;5;28;01mTrue\u001b[39;00m)\n\u001b[1;32m   1427\u001b[0m \u001b[38;5;28;01mdef\u001b[39;00m\u001b[38;5;250m \u001b[39m\u001b[38;5;21mfit\u001b[39m(\u001b[38;5;28mself\u001b[39m, X, y\u001b[38;5;241m=\u001b[39m\u001b[38;5;28;01mNone\u001b[39;00m, sample_weight\u001b[38;5;241m=\u001b[39m\u001b[38;5;28;01mNone\u001b[39;00m):\n\u001b[1;32m   1428\u001b[0m \u001b[38;5;250m    \u001b[39m\u001b[38;5;124;03m\"\"\"Compute k-means clustering.\u001b[39;00m\n\u001b[1;32m   1429\u001b[0m \n\u001b[1;32m   1430\u001b[0m \u001b[38;5;124;03m    Parameters\u001b[39;00m\n\u001b[0;32m   (...)\u001b[0m\n\u001b[1;32m   1452\u001b[0m \u001b[38;5;124;03m        Fitted estimator.\u001b[39;00m\n\u001b[1;32m   1453\u001b[0m \u001b[38;5;124;03m    \"\"\"\u001b[39;00m\n\u001b[0;32m-> 1454\u001b[0m     X \u001b[38;5;241m=\u001b[39m \u001b[43mvalidate_data\u001b[49m\u001b[43m(\u001b[49m\n\u001b[1;32m   1455\u001b[0m \u001b[43m        \u001b[49m\u001b[38;5;28;43mself\u001b[39;49m\u001b[43m,\u001b[49m\n\u001b[1;32m   1456\u001b[0m \u001b[43m        \u001b[49m\u001b[43mX\u001b[49m\u001b[43m,\u001b[49m\n\u001b[1;32m   1457\u001b[0m \u001b[43m        \u001b[49m\u001b[43maccept_sparse\u001b[49m\u001b[38;5;241;43m=\u001b[39;49m\u001b[38;5;124;43m\"\u001b[39;49m\u001b[38;5;124;43mcsr\u001b[39;49m\u001b[38;5;124;43m\"\u001b[39;49m\u001b[43m,\u001b[49m\n\u001b[1;32m   1458\u001b[0m \u001b[43m        \u001b[49m\u001b[43mdtype\u001b[49m\u001b[38;5;241;43m=\u001b[39;49m\u001b[43m[\u001b[49m\u001b[43mnp\u001b[49m\u001b[38;5;241;43m.\u001b[39;49m\u001b[43mfloat64\u001b[49m\u001b[43m,\u001b[49m\u001b[43m \u001b[49m\u001b[43mnp\u001b[49m\u001b[38;5;241;43m.\u001b[39;49m\u001b[43mfloat32\u001b[49m\u001b[43m]\u001b[49m\u001b[43m,\u001b[49m\n\u001b[1;32m   1459\u001b[0m \u001b[43m        \u001b[49m\u001b[43morder\u001b[49m\u001b[38;5;241;43m=\u001b[39;49m\u001b[38;5;124;43m\"\u001b[39;49m\u001b[38;5;124;43mC\u001b[39;49m\u001b[38;5;124;43m\"\u001b[39;49m\u001b[43m,\u001b[49m\n\u001b[1;32m   1460\u001b[0m \u001b[43m        \u001b[49m\u001b[43mcopy\u001b[49m\u001b[38;5;241;43m=\u001b[39;49m\u001b[38;5;28;43mself\u001b[39;49m\u001b[38;5;241;43m.\u001b[39;49m\u001b[43mcopy_x\u001b[49m\u001b[43m,\u001b[49m\n\u001b[1;32m   1461\u001b[0m \u001b[43m        \u001b[49m\u001b[43maccept_large_sparse\u001b[49m\u001b[38;5;241;43m=\u001b[39;49m\u001b[38;5;28;43;01mFalse\u001b[39;49;00m\u001b[43m,\u001b[49m\n\u001b[1;32m   1462\u001b[0m \u001b[43m    \u001b[49m\u001b[43m)\u001b[49m\n\u001b[1;32m   1464\u001b[0m     \u001b[38;5;28mself\u001b[39m\u001b[38;5;241m.\u001b[39m_check_params_vs_input(X)\n\u001b[1;32m   1466\u001b[0m     random_state \u001b[38;5;241m=\u001b[39m check_random_state(\u001b[38;5;28mself\u001b[39m\u001b[38;5;241m.\u001b[39mrandom_state)\n",
      "File \u001b[0;32m~/.pyenv/versions/glob/lib/python3.9/site-packages/sklearn/utils/validation.py:2944\u001b[0m, in \u001b[0;36mvalidate_data\u001b[0;34m(_estimator, X, y, reset, validate_separately, skip_check_array, **check_params)\u001b[0m\n\u001b[1;32m   2942\u001b[0m         out \u001b[38;5;241m=\u001b[39m X, y\n\u001b[1;32m   2943\u001b[0m \u001b[38;5;28;01melif\u001b[39;00m \u001b[38;5;129;01mnot\u001b[39;00m no_val_X \u001b[38;5;129;01mand\u001b[39;00m no_val_y:\n\u001b[0;32m-> 2944\u001b[0m     out \u001b[38;5;241m=\u001b[39m \u001b[43mcheck_array\u001b[49m\u001b[43m(\u001b[49m\u001b[43mX\u001b[49m\u001b[43m,\u001b[49m\u001b[43m \u001b[49m\u001b[43minput_name\u001b[49m\u001b[38;5;241;43m=\u001b[39;49m\u001b[38;5;124;43m\"\u001b[39;49m\u001b[38;5;124;43mX\u001b[39;49m\u001b[38;5;124;43m\"\u001b[39;49m\u001b[43m,\u001b[49m\u001b[43m \u001b[49m\u001b[38;5;241;43m*\u001b[39;49m\u001b[38;5;241;43m*\u001b[39;49m\u001b[43mcheck_params\u001b[49m\u001b[43m)\u001b[49m\n\u001b[1;32m   2945\u001b[0m \u001b[38;5;28;01melif\u001b[39;00m no_val_X \u001b[38;5;129;01mand\u001b[39;00m \u001b[38;5;129;01mnot\u001b[39;00m no_val_y:\n\u001b[1;32m   2946\u001b[0m     out \u001b[38;5;241m=\u001b[39m _check_y(y, \u001b[38;5;241m*\u001b[39m\u001b[38;5;241m*\u001b[39mcheck_params)\n",
      "File \u001b[0;32m~/.pyenv/versions/glob/lib/python3.9/site-packages/sklearn/utils/validation.py:1055\u001b[0m, in \u001b[0;36mcheck_array\u001b[0;34m(array, accept_sparse, accept_large_sparse, dtype, order, copy, force_writeable, force_all_finite, ensure_all_finite, ensure_non_negative, ensure_2d, allow_nd, ensure_min_samples, ensure_min_features, estimator, input_name)\u001b[0m\n\u001b[1;32m   1053\u001b[0m         array \u001b[38;5;241m=\u001b[39m xp\u001b[38;5;241m.\u001b[39mastype(array, dtype, copy\u001b[38;5;241m=\u001b[39m\u001b[38;5;28;01mFalse\u001b[39;00m)\n\u001b[1;32m   1054\u001b[0m     \u001b[38;5;28;01melse\u001b[39;00m:\n\u001b[0;32m-> 1055\u001b[0m         array \u001b[38;5;241m=\u001b[39m \u001b[43m_asarray_with_order\u001b[49m\u001b[43m(\u001b[49m\u001b[43marray\u001b[49m\u001b[43m,\u001b[49m\u001b[43m \u001b[49m\u001b[43morder\u001b[49m\u001b[38;5;241;43m=\u001b[39;49m\u001b[43morder\u001b[49m\u001b[43m,\u001b[49m\u001b[43m \u001b[49m\u001b[43mdtype\u001b[49m\u001b[38;5;241;43m=\u001b[39;49m\u001b[43mdtype\u001b[49m\u001b[43m,\u001b[49m\u001b[43m \u001b[49m\u001b[43mxp\u001b[49m\u001b[38;5;241;43m=\u001b[39;49m\u001b[43mxp\u001b[49m\u001b[43m)\u001b[49m\n\u001b[1;32m   1056\u001b[0m \u001b[38;5;28;01mexcept\u001b[39;00m ComplexWarning \u001b[38;5;28;01mas\u001b[39;00m complex_warning:\n\u001b[1;32m   1057\u001b[0m     \u001b[38;5;28;01mraise\u001b[39;00m \u001b[38;5;167;01mValueError\u001b[39;00m(\n\u001b[1;32m   1058\u001b[0m         \u001b[38;5;124m\"\u001b[39m\u001b[38;5;124mComplex data not supported\u001b[39m\u001b[38;5;130;01m\\n\u001b[39;00m\u001b[38;5;132;01m{}\u001b[39;00m\u001b[38;5;130;01m\\n\u001b[39;00m\u001b[38;5;124m\"\u001b[39m\u001b[38;5;241m.\u001b[39mformat(array)\n\u001b[1;32m   1059\u001b[0m     ) \u001b[38;5;28;01mfrom\u001b[39;00m\u001b[38;5;250m \u001b[39m\u001b[38;5;21;01mcomplex_warning\u001b[39;00m\n",
      "File \u001b[0;32m~/.pyenv/versions/glob/lib/python3.9/site-packages/sklearn/utils/_array_api.py:839\u001b[0m, in \u001b[0;36m_asarray_with_order\u001b[0;34m(array, dtype, order, copy, xp, device)\u001b[0m\n\u001b[1;32m    837\u001b[0m     array \u001b[38;5;241m=\u001b[39m numpy\u001b[38;5;241m.\u001b[39marray(array, order\u001b[38;5;241m=\u001b[39morder, dtype\u001b[38;5;241m=\u001b[39mdtype)\n\u001b[1;32m    838\u001b[0m \u001b[38;5;28;01melse\u001b[39;00m:\n\u001b[0;32m--> 839\u001b[0m     array \u001b[38;5;241m=\u001b[39m \u001b[43mnumpy\u001b[49m\u001b[38;5;241;43m.\u001b[39;49m\u001b[43masarray\u001b[49m\u001b[43m(\u001b[49m\u001b[43marray\u001b[49m\u001b[43m,\u001b[49m\u001b[43m \u001b[49m\u001b[43morder\u001b[49m\u001b[38;5;241;43m=\u001b[39;49m\u001b[43morder\u001b[49m\u001b[43m,\u001b[49m\u001b[43m \u001b[49m\u001b[43mdtype\u001b[49m\u001b[38;5;241;43m=\u001b[39;49m\u001b[43mdtype\u001b[49m\u001b[43m)\u001b[49m\n\u001b[1;32m    841\u001b[0m \u001b[38;5;66;03m# At this point array is a NumPy ndarray. We convert it to an array\u001b[39;00m\n\u001b[1;32m    842\u001b[0m \u001b[38;5;66;03m# container that is consistent with the input's namespace.\u001b[39;00m\n\u001b[1;32m    843\u001b[0m \u001b[38;5;28;01mreturn\u001b[39;00m xp\u001b[38;5;241m.\u001b[39masarray(array)\n",
      "\u001b[0;31mValueError\u001b[0m: setting an array element with a sequence. The requested array has an inhomogeneous shape after 1 dimensions. The detected shape was (2,) + inhomogeneous part."
     ]
    }
   ],
   "source": [
    "th.analysis_routine(kit_df)"
   ]
  }
 ],
 "metadata": {
  "kernelspec": {
   "display_name": "glob",
   "language": "python",
   "name": "python3"
  },
  "language_info": {
   "codemirror_mode": {
    "name": "ipython",
    "version": 3
   },
   "file_extension": ".py",
   "mimetype": "text/x-python",
   "name": "python",
   "nbconvert_exporter": "python",
   "pygments_lexer": "ipython3",
   "version": "3.9.22"
  }
 },
 "nbformat": 4,
 "nbformat_minor": 5
}
